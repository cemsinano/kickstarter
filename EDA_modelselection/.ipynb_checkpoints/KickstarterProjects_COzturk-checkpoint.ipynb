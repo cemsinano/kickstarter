{
 "cells": [
  {
   "cell_type": "markdown",
   "metadata": {},
   "source": [
    "# Kick Starter Projects"
   ]
  },
  {
   "cell_type": "markdown",
   "metadata": {},
   "source": [
    "The aim of this technical test is to find the most optimal way to predict if a kickstarter project will be successful or not based on the data contained in the dataset provided. "
   ]
  },
  {
   "cell_type": "markdown",
   "metadata": {},
   "source": [
    "The dataset is called 'kickstarter.csv'( the dataset is in UTF-8-SIG format)"
   ]
  },
  {
   "cell_type": "markdown",
   "metadata": {},
   "source": [
    "\n",
    "_by_ Cem Sinan OZTURK\n",
    "\n",
    "__February 28, 2021__"
   ]
  },
  {
   "cell_type": "code",
   "execution_count": 1,
   "metadata": {},
   "outputs": [],
   "source": [
    "import pandas as pd\n",
    "import numpy as np\n",
    "\n",
    "import datetime as dt\n",
    "import time\n",
    "\n",
    "from IPython.display import display #to display all columns\n",
    "\n",
    "import warnings\n",
    "warnings.filterwarnings('ignore')\n",
    "\n",
    "import seaborn as sns\n",
    "sns.set_theme(style=\"ticks\")\n",
    "\n",
    "import matplotlib.pyplot as plt\n",
    "\n",
    "from pandas_profiling import ProfileReport\n",
    "\n",
    "## sklearn stuff:\n",
    "\n",
    "from sklearn.pipeline import Pipeline\n",
    "from sklearn.model_selection import GridSearchCV, cross_val_score\n",
    "from sklearn.model_selection import train_test_split\n",
    "\n",
    "\n",
    "from sklearn.metrics import accuracy_score, precision_recall_curve, plot_precision_recall_curve\n",
    "from sklearn.metrics import roc_auc_score, precision_score, recall_score, average_precision_score\n",
    "from sklearn.metrics import f1_score, plot_confusion_matrix\n",
    "from sklearn.metrics import classification_report\n",
    "from sklearn.metrics import plot_roc_curve, precision_recall_fscore_support\n",
    "\n",
    "from sklearn.preprocessing import StandardScaler, OneHotEncoder\n",
    "from sklearn.compose import ColumnTransformer\n",
    "from sklearn.impute import SimpleImputer\n",
    "from sklearn.dummy import DummyClassifier\n",
    "\n",
    "# Models: \n",
    "from sklearn.linear_model import LogisticRegression,Lasso \n",
    "from sklearn.neighbors import KNeighborsClassifier\n",
    "from sklearn.svm import SVC\n",
    "from sklearn.naive_bayes import CategoricalNB\n",
    "from sklearn.tree import DecisionTreeClassifier\n",
    "from sklearn.ensemble import AdaBoostClassifier, GradientBoostingClassifier, RandomForestClassifier\n",
    "from lightgbm import LGBMClassifier\n",
    "from xgboost import XGBClassifier\n",
    "\n",
    "import pickle"
   ]
  },
  {
   "cell_type": "markdown",
   "metadata": {},
   "source": [
    "## EDA (Exploratory Data Analysis):"
   ]
  },
  {
   "cell_type": "code",
   "execution_count": 2,
   "metadata": {},
   "outputs": [
    {
     "data": {
      "text/html": [
       "<div>\n",
       "<style scoped>\n",
       "    .dataframe tbody tr th:only-of-type {\n",
       "        vertical-align: middle;\n",
       "    }\n",
       "\n",
       "    .dataframe tbody tr th {\n",
       "        vertical-align: top;\n",
       "    }\n",
       "\n",
       "    .dataframe thead th {\n",
       "        text-align: right;\n",
       "    }\n",
       "</style>\n",
       "<table border=\"1\" class=\"dataframe\">\n",
       "  <thead>\n",
       "    <tr style=\"text-align: right;\">\n",
       "      <th></th>\n",
       "      <th>ID</th>\n",
       "      <th>name</th>\n",
       "      <th>category</th>\n",
       "      <th>main_category</th>\n",
       "      <th>currency</th>\n",
       "      <th>deadline</th>\n",
       "      <th>goal</th>\n",
       "      <th>launched</th>\n",
       "      <th>pledged</th>\n",
       "      <th>state</th>\n",
       "      <th>backers</th>\n",
       "      <th>country</th>\n",
       "      <th>usd_pledged</th>\n",
       "    </tr>\n",
       "  </thead>\n",
       "  <tbody>\n",
       "    <tr>\n",
       "      <th>0</th>\n",
       "      <td>1000002330</td>\n",
       "      <td>The Songs of Adelaide &amp; Abullah</td>\n",
       "      <td>Poetry</td>\n",
       "      <td>Publishing</td>\n",
       "      <td>GBP</td>\n",
       "      <td>9/10/15 11:36</td>\n",
       "      <td>1000.0</td>\n",
       "      <td>11/8/15 12:12</td>\n",
       "      <td>0.0</td>\n",
       "      <td>failed</td>\n",
       "      <td>0</td>\n",
       "      <td>GB</td>\n",
       "      <td>0.0</td>\n",
       "    </tr>\n",
       "    <tr>\n",
       "      <th>1</th>\n",
       "      <td>1000004038</td>\n",
       "      <td>Where is Hank?</td>\n",
       "      <td>Narrative Film</td>\n",
       "      <td>Film &amp; Video</td>\n",
       "      <td>USD</td>\n",
       "      <td>26/2/13 0:20</td>\n",
       "      <td>45000.0</td>\n",
       "      <td>12/1/13 0:20</td>\n",
       "      <td>220.0</td>\n",
       "      <td>failed</td>\n",
       "      <td>3</td>\n",
       "      <td>US</td>\n",
       "      <td>220.0</td>\n",
       "    </tr>\n",
       "    <tr>\n",
       "      <th>2</th>\n",
       "      <td>1000007540</td>\n",
       "      <td>ToshiCapital Rekordz Needs Help to Complete Album</td>\n",
       "      <td>Music</td>\n",
       "      <td>Music</td>\n",
       "      <td>USD</td>\n",
       "      <td>16/4/12 4:24</td>\n",
       "      <td>5000.0</td>\n",
       "      <td>17/3/12 3:24</td>\n",
       "      <td>1.0</td>\n",
       "      <td>failed</td>\n",
       "      <td>1</td>\n",
       "      <td>US</td>\n",
       "      <td>1.0</td>\n",
       "    </tr>\n",
       "    <tr>\n",
       "      <th>3</th>\n",
       "      <td>1000011046</td>\n",
       "      <td>Community Film Project: The Art of Neighborhoo...</td>\n",
       "      <td>Film &amp; Video</td>\n",
       "      <td>Film &amp; Video</td>\n",
       "      <td>USD</td>\n",
       "      <td>29/8/15 1:00</td>\n",
       "      <td>19500.0</td>\n",
       "      <td>4/7/15 8:35</td>\n",
       "      <td>1283.0</td>\n",
       "      <td>canceled</td>\n",
       "      <td>14</td>\n",
       "      <td>US</td>\n",
       "      <td>1283.0</td>\n",
       "    </tr>\n",
       "    <tr>\n",
       "      <th>4</th>\n",
       "      <td>1000014025</td>\n",
       "      <td>Monarch Espresso Bar</td>\n",
       "      <td>Restaurants</td>\n",
       "      <td>Food</td>\n",
       "      <td>USD</td>\n",
       "      <td>1/4/16 13:38</td>\n",
       "      <td>50000.0</td>\n",
       "      <td>26/2/16 13:38</td>\n",
       "      <td>52375.0</td>\n",
       "      <td>successful</td>\n",
       "      <td>224</td>\n",
       "      <td>US</td>\n",
       "      <td>52375.0</td>\n",
       "    </tr>\n",
       "  </tbody>\n",
       "</table>\n",
       "</div>"
      ],
      "text/plain": [
       "          ID                                               name   \\\n",
       "0  1000002330                    The Songs of Adelaide & Abullah   \n",
       "1  1000004038                                     Where is Hank?   \n",
       "2  1000007540  ToshiCapital Rekordz Needs Help to Complete Album   \n",
       "3  1000011046  Community Film Project: The Art of Neighborhoo...   \n",
       "4  1000014025                               Monarch Espresso Bar   \n",
       "\n",
       "        category  main_category  currency       deadline     goal   \\\n",
       "0          Poetry     Publishing       GBP  9/10/15 11:36   1000.0   \n",
       "1  Narrative Film   Film & Video       USD   26/2/13 0:20  45000.0   \n",
       "2           Music          Music       USD   16/4/12 4:24   5000.0   \n",
       "3    Film & Video   Film & Video       USD   29/8/15 1:00  19500.0   \n",
       "4     Restaurants           Food       USD   1/4/16 13:38  50000.0   \n",
       "\n",
       "       launched   pledged       state   backers  country   usd_pledged   \n",
       "0  11/8/15 12:12       0.0      failed         0       GB           0.0  \n",
       "1   12/1/13 0:20     220.0      failed         3       US         220.0  \n",
       "2   17/3/12 3:24       1.0      failed         1       US           1.0  \n",
       "3    4/7/15 8:35    1283.0    canceled        14       US        1283.0  \n",
       "4  26/2/16 13:38   52375.0  successful       224       US       52375.0  "
      ]
     },
     "execution_count": 2,
     "metadata": {},
     "output_type": "execute_result"
    }
   ],
   "source": [
    "ks = pd.read_csv(\"./data/kickstarter.csv\", encoding='utf-8-sig')\n",
    "ks.head()"
   ]
  },
  {
   "cell_type": "code",
   "execution_count": 3,
   "metadata": {},
   "outputs": [
    {
     "data": {
      "text/plain": [
       "Index(['ID ', 'name ', 'category ', 'main_category ', 'currency ', 'deadline ',\n",
       "       'goal ', 'launched ', 'pledged ', 'state ', 'backers ', 'country ',\n",
       "       'usd_pledged '],\n",
       "      dtype='object')"
      ]
     },
     "execution_count": 3,
     "metadata": {},
     "output_type": "execute_result"
    }
   ],
   "source": [
    "ks.columns"
   ]
  },
  {
   "cell_type": "markdown",
   "metadata": {},
   "source": [
    "The column names end with whitespaces, it is better to clean them."
   ]
  },
  {
   "cell_type": "code",
   "execution_count": 4,
   "metadata": {},
   "outputs": [],
   "source": [
    "ks.rename(columns=lambda x: x.strip(), inplace=True)"
   ]
  },
  {
   "cell_type": "markdown",
   "metadata": {},
   "source": [
    "### Have a glimpse of each column:"
   ]
  },
  {
   "cell_type": "code",
   "execution_count": 5,
   "metadata": {},
   "outputs": [
    {
     "data": {
      "text/plain": [
       "(319294, 13)"
      ]
     },
     "execution_count": 5,
     "metadata": {},
     "output_type": "execute_result"
    }
   ],
   "source": [
    "ks.shape"
   ]
  },
  {
   "cell_type": "code",
   "execution_count": 6,
   "metadata": {
    "scrolled": true
   },
   "outputs": [
    {
     "name": "stdout",
     "output_type": "stream",
     "text": [
      "<class 'pandas.core.frame.DataFrame'>\n",
      "RangeIndex: 319294 entries, 0 to 319293\n",
      "Data columns (total 13 columns):\n",
      " #   Column         Non-Null Count   Dtype  \n",
      "---  ------         --------------   -----  \n",
      " 0   ID             319294 non-null  int64  \n",
      " 1   name           319290 non-null  object \n",
      " 2   category       319294 non-null  object \n",
      " 3   main_category  319294 non-null  object \n",
      " 4   currency       319294 non-null  object \n",
      " 5   deadline       319294 non-null  object \n",
      " 6   goal           319294 non-null  float64\n",
      " 7   launched       319294 non-null  object \n",
      " 8   pledged        319294 non-null  float64\n",
      " 9   state          319294 non-null  object \n",
      " 10  backers        319294 non-null  int64  \n",
      " 11  country        319294 non-null  object \n",
      " 12  usd_pledged    319294 non-null  float64\n",
      "dtypes: float64(3), int64(2), object(8)\n",
      "memory usage: 31.7+ MB\n"
     ]
    }
   ],
   "source": [
    "#ks.dtypes\n",
    "ks.info()"
   ]
  },
  {
   "cell_type": "code",
   "execution_count": 7,
   "metadata": {},
   "outputs": [],
   "source": [
    "## id should not used as numeric type for data analysis purposes:\n",
    "ks['ID']=ks['ID'].astype(str)"
   ]
  },
  {
   "cell_type": "code",
   "execution_count": 8,
   "metadata": {},
   "outputs": [
    {
     "data": {
      "text/html": [
       "<div>\n",
       "<style scoped>\n",
       "    .dataframe tbody tr th:only-of-type {\n",
       "        vertical-align: middle;\n",
       "    }\n",
       "\n",
       "    .dataframe tbody tr th {\n",
       "        vertical-align: top;\n",
       "    }\n",
       "\n",
       "    .dataframe thead th {\n",
       "        text-align: right;\n",
       "    }\n",
       "</style>\n",
       "<table border=\"1\" class=\"dataframe\">\n",
       "  <thead>\n",
       "    <tr style=\"text-align: right;\">\n",
       "      <th></th>\n",
       "      <th>ID</th>\n",
       "      <th>name</th>\n",
       "      <th>category</th>\n",
       "      <th>main_category</th>\n",
       "      <th>currency</th>\n",
       "      <th>deadline</th>\n",
       "      <th>launched</th>\n",
       "      <th>state</th>\n",
       "      <th>country</th>\n",
       "    </tr>\n",
       "  </thead>\n",
       "  <tbody>\n",
       "    <tr>\n",
       "      <th>count</th>\n",
       "      <td>319294</td>\n",
       "      <td>319290</td>\n",
       "      <td>319294</td>\n",
       "      <td>319294</td>\n",
       "      <td>319294</td>\n",
       "      <td>319294</td>\n",
       "      <td>319294</td>\n",
       "      <td>319294</td>\n",
       "      <td>319294</td>\n",
       "    </tr>\n",
       "    <tr>\n",
       "      <th>unique</th>\n",
       "      <td>319294</td>\n",
       "      <td>317237</td>\n",
       "      <td>158</td>\n",
       "      <td>15</td>\n",
       "      <td>13</td>\n",
       "      <td>272492</td>\n",
       "      <td>292502</td>\n",
       "      <td>5</td>\n",
       "      <td>21</td>\n",
       "    </tr>\n",
       "    <tr>\n",
       "      <th>top</th>\n",
       "      <td>1461287681</td>\n",
       "      <td>#NAME?</td>\n",
       "      <td>Product Design</td>\n",
       "      <td>Film &amp; Video</td>\n",
       "      <td>USD</td>\n",
       "      <td>1/1/12 5:59</td>\n",
       "      <td>1/11/16 16:00</td>\n",
       "      <td>failed</td>\n",
       "      <td>US</td>\n",
       "    </tr>\n",
       "    <tr>\n",
       "      <th>freq</th>\n",
       "      <td>1</td>\n",
       "      <td>39</td>\n",
       "      <td>17474</td>\n",
       "      <td>56768</td>\n",
       "      <td>257535</td>\n",
       "      <td>48</td>\n",
       "      <td>8</td>\n",
       "      <td>168096</td>\n",
       "      <td>257535</td>\n",
       "    </tr>\n",
       "  </tbody>\n",
       "</table>\n",
       "</div>"
      ],
      "text/plain": [
       "                ID    name        category main_category currency  \\\n",
       "count       319294  319290          319294        319294   319294   \n",
       "unique      319294  317237             158            15       13   \n",
       "top     1461287681  #NAME?  Product Design  Film & Video      USD   \n",
       "freq             1      39           17474         56768   257535   \n",
       "\n",
       "           deadline       launched   state country  \n",
       "count        319294         319294  319294  319294  \n",
       "unique       272492         292502       5      21  \n",
       "top     1/1/12 5:59  1/11/16 16:00  failed      US  \n",
       "freq             48              8  168096  257535  "
      ]
     },
     "execution_count": 8,
     "metadata": {},
     "output_type": "execute_result"
    }
   ],
   "source": [
    "# summarize non-numeric columns\n",
    "ks.describe(exclude={'float64','int64'})"
   ]
  },
  {
   "cell_type": "code",
   "execution_count": 9,
   "metadata": {},
   "outputs": [
    {
     "data": {
      "text/html": [
       "<div>\n",
       "<style scoped>\n",
       "    .dataframe tbody tr th:only-of-type {\n",
       "        vertical-align: middle;\n",
       "    }\n",
       "\n",
       "    .dataframe tbody tr th {\n",
       "        vertical-align: top;\n",
       "    }\n",
       "\n",
       "    .dataframe thead th {\n",
       "        text-align: right;\n",
       "    }\n",
       "</style>\n",
       "<table border=\"1\" class=\"dataframe\">\n",
       "  <thead>\n",
       "    <tr style=\"text-align: right;\">\n",
       "      <th></th>\n",
       "      <th>goal</th>\n",
       "      <th>pledged</th>\n",
       "      <th>backers</th>\n",
       "      <th>usd_pledged</th>\n",
       "    </tr>\n",
       "  </thead>\n",
       "  <tbody>\n",
       "    <tr>\n",
       "      <th>count</th>\n",
       "      <td>3.192940e+05</td>\n",
       "      <td>3.192940e+05</td>\n",
       "      <td>319294.000000</td>\n",
       "      <td>3.192940e+05</td>\n",
       "    </tr>\n",
       "    <tr>\n",
       "      <th>mean</th>\n",
       "      <td>4.765076e+04</td>\n",
       "      <td>8.764240e+03</td>\n",
       "      <td>102.838287</td>\n",
       "      <td>7.847774e+03</td>\n",
       "    </tr>\n",
       "    <tr>\n",
       "      <th>std</th>\n",
       "      <td>1.146365e+06</td>\n",
       "      <td>8.998566e+04</td>\n",
       "      <td>940.420560</td>\n",
       "      <td>8.468826e+04</td>\n",
       "    </tr>\n",
       "    <tr>\n",
       "      <th>min</th>\n",
       "      <td>1.000000e-02</td>\n",
       "      <td>0.000000e+00</td>\n",
       "      <td>0.000000</td>\n",
       "      <td>0.000000e+00</td>\n",
       "    </tr>\n",
       "    <tr>\n",
       "      <th>25%</th>\n",
       "      <td>2.000000e+03</td>\n",
       "      <td>3.000000e+01</td>\n",
       "      <td>2.000000</td>\n",
       "      <td>2.500000e+01</td>\n",
       "    </tr>\n",
       "    <tr>\n",
       "      <th>50%</th>\n",
       "      <td>5.000000e+03</td>\n",
       "      <td>6.100000e+02</td>\n",
       "      <td>12.000000</td>\n",
       "      <td>5.350000e+02</td>\n",
       "    </tr>\n",
       "    <tr>\n",
       "      <th>75%</th>\n",
       "      <td>1.500000e+04</td>\n",
       "      <td>3.939650e+03</td>\n",
       "      <td>56.000000</td>\n",
       "      <td>3.575000e+03</td>\n",
       "    </tr>\n",
       "    <tr>\n",
       "      <th>max</th>\n",
       "      <td>1.000000e+08</td>\n",
       "      <td>2.033899e+07</td>\n",
       "      <td>219382.000000</td>\n",
       "      <td>2.033899e+07</td>\n",
       "    </tr>\n",
       "  </tbody>\n",
       "</table>\n",
       "</div>"
      ],
      "text/plain": [
       "               goal       pledged        backers   usd_pledged\n",
       "count  3.192940e+05  3.192940e+05  319294.000000  3.192940e+05\n",
       "mean   4.765076e+04  8.764240e+03     102.838287  7.847774e+03\n",
       "std    1.146365e+06  8.998566e+04     940.420560  8.468826e+04\n",
       "min    1.000000e-02  0.000000e+00       0.000000  0.000000e+00\n",
       "25%    2.000000e+03  3.000000e+01       2.000000  2.500000e+01\n",
       "50%    5.000000e+03  6.100000e+02      12.000000  5.350000e+02\n",
       "75%    1.500000e+04  3.939650e+03      56.000000  3.575000e+03\n",
       "max    1.000000e+08  2.033899e+07  219382.000000  2.033899e+07"
      ]
     },
     "execution_count": 9,
     "metadata": {},
     "output_type": "execute_result"
    }
   ],
   "source": [
    "# summarize numeric colums:\n",
    "ks.describe()"
   ]
  },
  {
   "cell_type": "markdown",
   "metadata": {},
   "source": [
    "#### drop `ID` column:\n",
    "\n",
    "`ID` is unique for each row so there is no issue related to `ID`, at the same time it means it doesn't add any value for the analysis."
   ]
  },
  {
   "cell_type": "code",
   "execution_count": 10,
   "metadata": {},
   "outputs": [],
   "source": [
    "ks.drop('ID', axis=1, inplace=True)"
   ]
  },
  {
   "cell_type": "markdown",
   "metadata": {},
   "source": [
    "### PandasProfiling Initial EDA Report for a General Summary:\n",
    "\n",
    "I am using PandasProfiling package to get a quick explaratory data analysis report before going into deep on cleaning the data. [*initial_eda_report.html*](./doc/initial_eda_report.html) is saved to make it available to have a peak on the data without running this notebook analysis. \n",
    "\n",
    "[Initial EDA Report](./doc/initial_eda_report.html)"
   ]
  },
  {
   "cell_type": "code",
   "execution_count": 11,
   "metadata": {
    "scrolled": false
   },
   "outputs": [
    {
     "data": {
      "application/vnd.jupyter.widget-view+json": {
       "model_id": "8291ff5470a24c6c93afa84c1d2da8e2",
       "version_major": 2,
       "version_minor": 0
      },
      "text/plain": [
       "Summarize dataset:   0%|          | 0/25 [00:00<?, ?it/s]"
      ]
     },
     "metadata": {},
     "output_type": "display_data"
    },
    {
     "data": {
      "application/vnd.jupyter.widget-view+json": {
       "model_id": "7ab45919c93e410aa27d6f8b77e02f13",
       "version_major": 2,
       "version_minor": 0
      },
      "text/plain": [
       "Generate report structure:   0%|          | 0/1 [00:00<?, ?it/s]"
      ]
     },
     "metadata": {},
     "output_type": "display_data"
    },
    {
     "data": {
      "application/vnd.jupyter.widget-view+json": {
       "model_id": "ea35b0ed6f91492e862721d2053fe71e",
       "version_major": 2,
       "version_minor": 0
      },
      "text/plain": [
       "Render HTML:   0%|          | 0/1 [00:00<?, ?it/s]"
      ]
     },
     "metadata": {},
     "output_type": "display_data"
    },
    {
     "data": {
      "application/vnd.jupyter.widget-view+json": {
       "model_id": "0c1e9e69cca14be0b6841045e21a83a6",
       "version_major": 2,
       "version_minor": 0
      },
      "text/plain": [
       "Export report to file:   0%|          | 0/1 [00:00<?, ?it/s]"
      ]
     },
     "metadata": {},
     "output_type": "display_data"
    }
   ],
   "source": [
    "profile = ProfileReport(ks, title='KickStarter EDA Report', explorative=True)\n",
    "profile.to_file(\"initial_eda_report.html\")\n",
    "#profile"
   ]
  },
  {
   "cell_type": "markdown",
   "metadata": {},
   "source": [
    "#### `category` and `main_category` columns:\n",
    "\n",
    "`category` has 158 distinct value while `main_category` has 14 and it can be seen as a binned version of category. I am going keep only `main_category` column."
   ]
  },
  {
   "cell_type": "code",
   "execution_count": 12,
   "metadata": {},
   "outputs": [],
   "source": [
    "ks.drop('category', axis=1, inplace=True)"
   ]
  },
  {
   "cell_type": "markdown",
   "metadata": {},
   "source": [
    "#### Target variable (`state`):\n",
    "\n",
    "We have five unique target values **('failed', 'canceled', 'successful', 'live', 'suspended')**, and our aim is to assess the success of a project campaign. **canceled** and **suspended** values can be argued as a failure but since we do not have extra information, it is best to omit them. Also, some **live** campaigns may have already reached their goal and it can be seen as success, these ones will be incomplete. Therefore, I am going to keep only **failed** and **successful** `state` values. "
   ]
  },
  {
   "cell_type": "code",
   "execution_count": 13,
   "metadata": {},
   "outputs": [
    {
     "data": {
      "text/html": [
       "<div>\n",
       "<style scoped>\n",
       "    .dataframe tbody tr th:only-of-type {\n",
       "        vertical-align: middle;\n",
       "    }\n",
       "\n",
       "    .dataframe tbody tr th {\n",
       "        vertical-align: top;\n",
       "    }\n",
       "\n",
       "    .dataframe thead th {\n",
       "        text-align: right;\n",
       "    }\n",
       "</style>\n",
       "<table border=\"1\" class=\"dataframe\">\n",
       "  <thead>\n",
       "    <tr style=\"text-align: right;\">\n",
       "      <th></th>\n",
       "      <th>state</th>\n",
       "      <th>count</th>\n",
       "    </tr>\n",
       "  </thead>\n",
       "  <tbody>\n",
       "    <tr>\n",
       "      <th>0</th>\n",
       "      <td>failed</td>\n",
       "      <td>168096</td>\n",
       "    </tr>\n",
       "    <tr>\n",
       "      <th>1</th>\n",
       "      <td>successful</td>\n",
       "      <td>112965</td>\n",
       "    </tr>\n",
       "    <tr>\n",
       "      <th>2</th>\n",
       "      <td>canceled</td>\n",
       "      <td>32329</td>\n",
       "    </tr>\n",
       "    <tr>\n",
       "      <th>3</th>\n",
       "      <td>live</td>\n",
       "      <td>4427</td>\n",
       "    </tr>\n",
       "    <tr>\n",
       "      <th>4</th>\n",
       "      <td>suspended</td>\n",
       "      <td>1477</td>\n",
       "    </tr>\n",
       "  </tbody>\n",
       "</table>\n",
       "</div>"
      ],
      "text/plain": [
       "        state   count\n",
       "0      failed  168096\n",
       "1  successful  112965\n",
       "2    canceled   32329\n",
       "3        live    4427\n",
       "4   suspended    1477"
      ]
     },
     "execution_count": 13,
     "metadata": {},
     "output_type": "execute_result"
    }
   ],
   "source": [
    "ks.groupby('state').size().sort_values(ascending=False).reset_index(name='count')"
   ]
  },
  {
   "cell_type": "code",
   "execution_count": 14,
   "metadata": {},
   "outputs": [],
   "source": [
    "ks=ks.loc[~ks.state.isin(['canceled', 'live', 'suspended'])]"
   ]
  },
  {
   "cell_type": "markdown",
   "metadata": {},
   "source": [
    "#### `name` variable:\n",
    "\n",
    "`name` is the only variable with N/A values. It only has four null columns. However, there are rows with \"#NAME?\" value which is basically null values, too. I am going to replace both null and \"#NAME?\" values with empty string \"\".\n",
    "\n",
    "New feautures from `name`:\n",
    "\n",
    "    - word counts (name_wcount)\n",
    "    - character counts (name_len)\n",
    "\n",
    "These counts overlook the whitespace, special character, and other issues which may be in the strings. \n",
    "\n",
    "Also, we see `name` observations contain *cancel* in pandasprofiling report. We don't see them here, and it is not an issue anymore since all of them are directly related to **canceled** `state` and we've already dropped these rows. If we decide to use other states in the future, this is a point to be careful about the `name` column."
   ]
  },
  {
   "cell_type": "code",
   "execution_count": 15,
   "metadata": {},
   "outputs": [
    {
     "data": {
      "text/html": [
       "<div>\n",
       "<style scoped>\n",
       "    .dataframe tbody tr th:only-of-type {\n",
       "        vertical-align: middle;\n",
       "    }\n",
       "\n",
       "    .dataframe tbody tr th {\n",
       "        vertical-align: top;\n",
       "    }\n",
       "\n",
       "    .dataframe thead th {\n",
       "        text-align: right;\n",
       "    }\n",
       "</style>\n",
       "<table border=\"1\" class=\"dataframe\">\n",
       "  <thead>\n",
       "    <tr style=\"text-align: right;\">\n",
       "      <th></th>\n",
       "      <th>name</th>\n",
       "      <th>count</th>\n",
       "    </tr>\n",
       "  </thead>\n",
       "  <tbody>\n",
       "    <tr>\n",
       "      <th>0</th>\n",
       "      <td>#NAME?</td>\n",
       "      <td>31</td>\n",
       "    </tr>\n",
       "    <tr>\n",
       "      <th>1</th>\n",
       "      <td>New EP/Music Development</td>\n",
       "      <td>13</td>\n",
       "    </tr>\n",
       "    <tr>\n",
       "      <th>2</th>\n",
       "      <td>New EP / Music Development</td>\n",
       "      <td>10</td>\n",
       "    </tr>\n",
       "    <tr>\n",
       "      <th>3</th>\n",
       "      <td>Reflections</td>\n",
       "      <td>9</td>\n",
       "    </tr>\n",
       "    <tr>\n",
       "      <th>4</th>\n",
       "      <td>Music Video</td>\n",
       "      <td>9</td>\n",
       "    </tr>\n",
       "    <tr>\n",
       "      <th>5</th>\n",
       "      <td>A Midsummer Night's Dream</td>\n",
       "      <td>8</td>\n",
       "    </tr>\n",
       "    <tr>\n",
       "      <th>6</th>\n",
       "      <td>Pizza</td>\n",
       "      <td>8</td>\n",
       "    </tr>\n",
       "    <tr>\n",
       "      <th>7</th>\n",
       "      <td>Debut Album</td>\n",
       "      <td>7</td>\n",
       "    </tr>\n",
       "    <tr>\n",
       "      <th>8</th>\n",
       "      <td>The Awakening</td>\n",
       "      <td>7</td>\n",
       "    </tr>\n",
       "    <tr>\n",
       "      <th>9</th>\n",
       "      <td>Pasta Salad</td>\n",
       "      <td>7</td>\n",
       "    </tr>\n",
       "  </tbody>\n",
       "</table>\n",
       "</div>"
      ],
      "text/plain": [
       "                         name  count\n",
       "0                      #NAME?     31\n",
       "1    New EP/Music Development     13\n",
       "2  New EP / Music Development     10\n",
       "3                 Reflections      9\n",
       "4                 Music Video      9\n",
       "5   A Midsummer Night's Dream      8\n",
       "6                       Pizza      8\n",
       "7                 Debut Album      7\n",
       "8               The Awakening      7\n",
       "9                 Pasta Salad      7"
      ]
     },
     "execution_count": 15,
     "metadata": {},
     "output_type": "execute_result"
    }
   ],
   "source": [
    "ks.groupby('name').size().sort_values(ascending=False).reset_index(name='count').head(10)"
   ]
  },
  {
   "cell_type": "code",
   "execution_count": 16,
   "metadata": {},
   "outputs": [],
   "source": [
    "ks['name'] = np.where((ks.name.isnull() | ks.name.str.contains('#NAME?')), '', ks.name)"
   ]
  },
  {
   "cell_type": "code",
   "execution_count": 17,
   "metadata": {},
   "outputs": [],
   "source": [
    "ks['name_len'] = ks['name'].str.len()\n",
    "ks['name_wcount'] = ks['name'].str.split().apply(len)"
   ]
  },
  {
   "cell_type": "markdown",
   "metadata": {},
   "source": [
    "Since we created some features out of `name` column and using `name` in this shape will not bring us much of an extra value. I will drop `name` column before modelling.\n",
    "\n",
    "For now, I am keeping the `name` column since it will help me to show a pattern in duplicated columns."
   ]
  },
  {
   "cell_type": "code",
   "execution_count": 20,
   "metadata": {},
   "outputs": [],
   "source": [
    "#ks.drop('name', axis=1, inplace=True)"
   ]
  },
  {
   "cell_type": "markdown",
   "metadata": {},
   "source": [
    "#### date type columns (`launched`, and `deadline`):\n",
    "\n",
    "First of all, I convert deadline and launched columns into *date* type. Then, I populate some datetime related features from launch and deadline columns. Here, I create `*_year_month`(e.g. 2015-12), `*_weekend`(0 if weekday, 1 if weekend), `*_hour`(hour of the day for the related column). I will use these need datetime related features to see the effect of launch and deadline date-times on the success of the funding. I can create more but to keep simple I am not going to create other extra features in this exercise. "
   ]
  },
  {
   "cell_type": "code",
   "execution_count": 18,
   "metadata": {},
   "outputs": [],
   "source": [
    "to_dt = lambda x: pd.to_datetime(x,format=\"%d/%m/%y %H:%M\" )\n",
    "ks.deadline  = to_dt(ks.deadline)\n",
    "ks.launched  = to_dt(ks.launched)\n",
    "\n",
    "ks['launched_date'] = ks.launched.dt.date\n",
    "ks['deadline_date'] = ks.deadline.dt.date"
   ]
  },
  {
   "cell_type": "code",
   "execution_count": 19,
   "metadata": {},
   "outputs": [
    {
     "data": {
      "text/plain": [
       "0        59 days\n",
       "1        45 days\n",
       "2        30 days\n",
       "4        35 days\n",
       "5        20 days\n",
       "           ...  \n",
       "319287   30 days\n",
       "319290   27 days\n",
       "319291   46 days\n",
       "319292   31 days\n",
       "319293   28 days\n",
       "Length: 281061, dtype: timedelta64[ns]"
      ]
     },
     "execution_count": 19,
     "metadata": {},
     "output_type": "execute_result"
    }
   ],
   "source": [
    "ks.deadline.dt.date-ks.launched.dt.date"
   ]
  },
  {
   "cell_type": "code",
   "execution_count": 20,
   "metadata": {},
   "outputs": [],
   "source": [
    "ks['campaing_len']=ks.deadline.dt.date-ks.launched.dt.date\n",
    "ks['campaing_len']=ks['campaing_len'].dt.days"
   ]
  },
  {
   "cell_type": "markdown",
   "metadata": {},
   "source": [
    "Populate datetime related features from launch and deadline columns:"
   ]
  },
  {
   "cell_type": "code",
   "execution_count": 21,
   "metadata": {},
   "outputs": [],
   "source": [
    "ks['launched_hour']=ks.launched.dt.hour.astype('category')\n",
    "ks['deadline_hour']=ks.deadline.dt.hour.astype('category')\n",
    "\n",
    "#ks['launched_year_month']=ks.launched.dt.strftime('%Y-%m')\n",
    "#ks['deadline_year_month']=ks.deadline.dt.strftime('%Y-%m')\n",
    "\n",
    "ks['launched_month']=ks.launched.dt.strftime(\"%B\")\n",
    "#ks['deadline_month']=ks.deadline.dt.strftime(\"%B\")\n",
    "\n",
    "ks['launched_year']=ks.launched.dt.year.astype('category')\n",
    "#ks['deadline_year']=ks.deadline.dt.year  #.astype('category')\n",
    "\n",
    "#ks['launched_day']ks.deadline.dt.day_name()\n",
    "#ks['deadline_day']ks.deadline.dt.day_name()\n",
    "\n",
    "ks['launched_weekend'] = np.where((ks['launched'].dt.dayofweek) < 5,False,True)\n",
    "ks['deadline_weekend'] = np.where((ks['deadline'].dt.dayofweek) < 5,False,True)\n"
   ]
  },
  {
   "cell_type": "code",
   "execution_count": 22,
   "metadata": {},
   "outputs": [],
   "source": [
    "## drop original deadline, launched columns\n",
    "\n",
    "ks.drop(['deadline','launched'], axis=1,inplace=True)"
   ]
  },
  {
   "cell_type": "markdown",
   "metadata": {},
   "source": [
    "#### `pledged` and `backers` information:\n",
    "\n",
    "I must say from the beginning `pledged` and number of `backers` columns will not be known at the beginning of a project campaing for that reason these columns are carrying future information. These numbers will be known at the end of a campaign and if we want to predict a new campaing when it is launched, we will not have this information. Therefore, they cannot be used for modelling purposes. They will beneficial for reporting and analysis perspective but useless for modelling.\n",
    "\n",
    "#### on `pledged` vs `usd_pledged` and other money related column (`goal`)\n",
    "\n",
    "### Supplementary Data for Currency Exchange Rates:\n",
    "\n",
    "`kickstarter` dataset have values in different currencies. We need to convert money related values into same currency which I will convert to **USD**. \n",
    "\n",
    "First thing, I have tried to populate foreign exchange rate(FX) from `usd_pledges/pledges` ratio. However, it comes with many issues such as zero values for `pledges`, and unavailable FX rate for specific dates. Also, in our dataset `usd_pledges/pledges` doesn't always gives meaningful FX rates due to some issues which is not possible to infer without extra information. Therefore, I have get [**Historical FX Data** from datahub.io .](https://datahub.io/core/exchange-rates)\n",
    "\n",
    "Since the project owner knows the previous information about the foreign exchange when they publish their projects. So, the best solution is to convert `goal` into USD with using foreign exchange rate at the `launched_date`."
   ]
  },
  {
   "cell_type": "code",
   "execution_count": 23,
   "metadata": {},
   "outputs": [
    {
     "data": {
      "text/html": [
       "<div>\n",
       "<style scoped>\n",
       "    .dataframe tbody tr th:only-of-type {\n",
       "        vertical-align: middle;\n",
       "    }\n",
       "\n",
       "    .dataframe tbody tr th {\n",
       "        vertical-align: top;\n",
       "    }\n",
       "\n",
       "    .dataframe thead th {\n",
       "        text-align: right;\n",
       "    }\n",
       "</style>\n",
       "<table border=\"1\" class=\"dataframe\">\n",
       "  <thead>\n",
       "    <tr style=\"text-align: right;\">\n",
       "      <th></th>\n",
       "      <th>Date</th>\n",
       "      <th>Country</th>\n",
       "      <th>Value</th>\n",
       "    </tr>\n",
       "  </thead>\n",
       "  <tbody>\n",
       "    <tr>\n",
       "      <th>0</th>\n",
       "      <td>1971-01-04</td>\n",
       "      <td>Australia</td>\n",
       "      <td>0.8987</td>\n",
       "    </tr>\n",
       "    <tr>\n",
       "      <th>1</th>\n",
       "      <td>1971-01-05</td>\n",
       "      <td>Australia</td>\n",
       "      <td>0.8983</td>\n",
       "    </tr>\n",
       "    <tr>\n",
       "      <th>2</th>\n",
       "      <td>1971-01-06</td>\n",
       "      <td>Australia</td>\n",
       "      <td>0.8977</td>\n",
       "    </tr>\n",
       "    <tr>\n",
       "      <th>3</th>\n",
       "      <td>1971-01-07</td>\n",
       "      <td>Australia</td>\n",
       "      <td>0.8978</td>\n",
       "    </tr>\n",
       "    <tr>\n",
       "      <th>4</th>\n",
       "      <td>1971-01-08</td>\n",
       "      <td>Australia</td>\n",
       "      <td>0.8990</td>\n",
       "    </tr>\n",
       "  </tbody>\n",
       "</table>\n",
       "</div>"
      ],
      "text/plain": [
       "         Date    Country   Value\n",
       "0  1971-01-04  Australia  0.8987\n",
       "1  1971-01-05  Australia  0.8983\n",
       "2  1971-01-06  Australia  0.8977\n",
       "3  1971-01-07  Australia  0.8978\n",
       "4  1971-01-08  Australia  0.8990"
      ]
     },
     "execution_count": 23,
     "metadata": {},
     "output_type": "execute_result"
    }
   ],
   "source": [
    "daily = pd.read_csv('https://datahub.io/core/exchange-rates/r/daily.csv')\n",
    "#daily.to_csv(\"./data/daily.csv\") \n",
    "#daily = pd.read_csv(\"./data/daily.csv\")\n",
    "daily.head()"
   ]
  },
  {
   "cell_type": "markdown",
   "metadata": {},
   "source": [
    "Created a copy csv file (*daily.csv*) for the daily exchange rate, in case the link expires."
   ]
  },
  {
   "cell_type": "code",
   "execution_count": 24,
   "metadata": {},
   "outputs": [],
   "source": [
    "# need this dict for mapping countries to currencies\n",
    "countries = {'United Kingdom':'GBP', 'USA':'USD','Canada': 'CAD',\n",
    "             'Norway':'NOK','Australia': 'AUD', 'Euro':'EUR',\n",
    "             'Mexico':'MXN', 'Sweden':'SEK', 'New Zealand':'NZD',\n",
    "             'Switzerland':'CHF', 'Denmark':'DKK', 'Hong Kong':'HKD',\n",
    "             'Singapore':'SGD'}"
   ]
  },
  {
   "cell_type": "code",
   "execution_count": 25,
   "metadata": {},
   "outputs": [
    {
     "data": {
      "text/html": [
       "<div>\n",
       "<style scoped>\n",
       "    .dataframe tbody tr th:only-of-type {\n",
       "        vertical-align: middle;\n",
       "    }\n",
       "\n",
       "    .dataframe tbody tr th {\n",
       "        vertical-align: top;\n",
       "    }\n",
       "\n",
       "    .dataframe thead th {\n",
       "        text-align: right;\n",
       "    }\n",
       "</style>\n",
       "<table border=\"1\" class=\"dataframe\">\n",
       "  <thead>\n",
       "    <tr style=\"text-align: right;\">\n",
       "      <th></th>\n",
       "      <th>Date</th>\n",
       "      <th>Country</th>\n",
       "      <th>Value</th>\n",
       "      <th>currency</th>\n",
       "    </tr>\n",
       "  </thead>\n",
       "  <tbody>\n",
       "    <tr>\n",
       "      <th>0</th>\n",
       "      <td>1971-01-04</td>\n",
       "      <td>Australia</td>\n",
       "      <td>0.8987</td>\n",
       "      <td>AUD</td>\n",
       "    </tr>\n",
       "    <tr>\n",
       "      <th>1</th>\n",
       "      <td>1971-01-05</td>\n",
       "      <td>Australia</td>\n",
       "      <td>0.8983</td>\n",
       "      <td>AUD</td>\n",
       "    </tr>\n",
       "    <tr>\n",
       "      <th>2</th>\n",
       "      <td>1971-01-06</td>\n",
       "      <td>Australia</td>\n",
       "      <td>0.8977</td>\n",
       "      <td>AUD</td>\n",
       "    </tr>\n",
       "    <tr>\n",
       "      <th>3</th>\n",
       "      <td>1971-01-07</td>\n",
       "      <td>Australia</td>\n",
       "      <td>0.8978</td>\n",
       "      <td>AUD</td>\n",
       "    </tr>\n",
       "    <tr>\n",
       "      <th>4</th>\n",
       "      <td>1971-01-08</td>\n",
       "      <td>Australia</td>\n",
       "      <td>0.8990</td>\n",
       "      <td>AUD</td>\n",
       "    </tr>\n",
       "  </tbody>\n",
       "</table>\n",
       "</div>"
      ],
      "text/plain": [
       "         Date    Country   Value currency\n",
       "0  1971-01-04  Australia  0.8987      AUD\n",
       "1  1971-01-05  Australia  0.8983      AUD\n",
       "2  1971-01-06  Australia  0.8977      AUD\n",
       "3  1971-01-07  Australia  0.8978      AUD\n",
       "4  1971-01-08  Australia  0.8990      AUD"
      ]
     },
     "execution_count": 25,
     "metadata": {},
     "output_type": "execute_result"
    }
   ],
   "source": [
    "daily['currency']=daily['Country'].map(countries)\n",
    "daily.head()"
   ]
  },
  {
   "cell_type": "code",
   "execution_count": 26,
   "metadata": {},
   "outputs": [],
   "source": [
    "#remove unrelated countries\n",
    "daily = daily.loc[~daily.currency.isnull()] \n",
    "\n",
    "daily.Date = pd.to_datetime(daily['Date']).dt.date"
   ]
  },
  {
   "cell_type": "markdown",
   "metadata": {},
   "source": [
    "#### Fill Missing Currency Values for Weekend Days:\n",
    "\n",
    "Creating multi-index from `currency` and `date` pairs to be able to add **weekend** into the timeseries. Since `currency` values doesn't have weekend values. I will feed *Friday* values into *Saturday and Sunday*."
   ]
  },
  {
   "cell_type": "code",
   "execution_count": 27,
   "metadata": {},
   "outputs": [
    {
     "data": {
      "text/plain": [
       "MultiIndex([('GBP', '2009-04-15'),\n",
       "            ('GBP', '2009-04-16'),\n",
       "            ('GBP', '2009-04-17'),\n",
       "            ('GBP', '2009-04-18'),\n",
       "            ('GBP', '2009-04-19'),\n",
       "            ('GBP', '2009-04-20'),\n",
       "            ('GBP', '2009-04-21'),\n",
       "            ('GBP', '2009-04-22'),\n",
       "            ('GBP', '2009-04-23'),\n",
       "            ('GBP', '2009-04-24'),\n",
       "            ...\n",
       "            ('SGD', '2017-01-26'),\n",
       "            ('SGD', '2017-01-27'),\n",
       "            ('SGD', '2017-01-28'),\n",
       "            ('SGD', '2017-01-29'),\n",
       "            ('SGD', '2017-01-30'),\n",
       "            ('SGD', '2017-01-31'),\n",
       "            ('SGD', '2017-02-01'),\n",
       "            ('SGD', '2017-02-02'),\n",
       "            ('SGD', '2017-02-03'),\n",
       "            ('SGD', '2017-02-04')],\n",
       "           length=37089)"
      ]
     },
     "execution_count": 27,
     "metadata": {},
     "output_type": "execute_result"
    }
   ],
   "source": [
    "# create multiindex to \n",
    "dindex=pd.date_range(dt.date(2009, 4, 15), dt.date(2017, 2, 4),freq=\"D\")\n",
    "cindex=list(countries.values())\n",
    "\n",
    "multi_index = pd.MultiIndex.from_product([cindex, dindex])\n",
    "multi_index"
   ]
  },
  {
   "cell_type": "code",
   "execution_count": 28,
   "metadata": {},
   "outputs": [
    {
     "data": {
      "text/html": [
       "<div>\n",
       "<style scoped>\n",
       "    .dataframe tbody tr th:only-of-type {\n",
       "        vertical-align: middle;\n",
       "    }\n",
       "\n",
       "    .dataframe tbody tr th {\n",
       "        vertical-align: top;\n",
       "    }\n",
       "\n",
       "    .dataframe thead th {\n",
       "        text-align: right;\n",
       "    }\n",
       "</style>\n",
       "<table border=\"1\" class=\"dataframe\">\n",
       "  <thead>\n",
       "    <tr style=\"text-align: right;\">\n",
       "      <th></th>\n",
       "      <th>currency</th>\n",
       "      <th>date</th>\n",
       "      <th>Country</th>\n",
       "      <th>Value</th>\n",
       "    </tr>\n",
       "  </thead>\n",
       "  <tbody>\n",
       "    <tr>\n",
       "      <th>0</th>\n",
       "      <td>GBP</td>\n",
       "      <td>2009-04-15</td>\n",
       "      <td>United Kingdom</td>\n",
       "      <td>0.6671</td>\n",
       "    </tr>\n",
       "    <tr>\n",
       "      <th>1</th>\n",
       "      <td>GBP</td>\n",
       "      <td>2009-04-16</td>\n",
       "      <td>United Kingdom</td>\n",
       "      <td>0.6707</td>\n",
       "    </tr>\n",
       "    <tr>\n",
       "      <th>2</th>\n",
       "      <td>GBP</td>\n",
       "      <td>2009-04-17</td>\n",
       "      <td>United Kingdom</td>\n",
       "      <td>0.6767</td>\n",
       "    </tr>\n",
       "    <tr>\n",
       "      <th>3</th>\n",
       "      <td>GBP</td>\n",
       "      <td>2009-04-18</td>\n",
       "      <td>NaN</td>\n",
       "      <td>NaN</td>\n",
       "    </tr>\n",
       "    <tr>\n",
       "      <th>4</th>\n",
       "      <td>GBP</td>\n",
       "      <td>2009-04-19</td>\n",
       "      <td>NaN</td>\n",
       "      <td>NaN</td>\n",
       "    </tr>\n",
       "  </tbody>\n",
       "</table>\n",
       "</div>"
      ],
      "text/plain": [
       "  currency       date         Country   Value\n",
       "0      GBP 2009-04-15  United Kingdom  0.6671\n",
       "1      GBP 2009-04-16  United Kingdom  0.6707\n",
       "2      GBP 2009-04-17  United Kingdom  0.6767\n",
       "3      GBP 2009-04-18             NaN     NaN\n",
       "4      GBP 2009-04-19             NaN     NaN"
      ]
     },
     "execution_count": 28,
     "metadata": {},
     "output_type": "execute_result"
    }
   ],
   "source": [
    "daily=daily.groupby(['currency', 'Date']).first().reindex(multi_index)\n",
    "daily=daily.rename_axis(['currency','date']).reset_index()\n",
    "daily['Value'] = np.where(daily.currency == 'USD',1,daily['Value'])\n",
    "daily.head()"
   ]
  },
  {
   "cell_type": "code",
   "execution_count": 29,
   "metadata": {},
   "outputs": [
    {
     "data": {
      "text/html": [
       "<div>\n",
       "<style scoped>\n",
       "    .dataframe tbody tr th:only-of-type {\n",
       "        vertical-align: middle;\n",
       "    }\n",
       "\n",
       "    .dataframe tbody tr th {\n",
       "        vertical-align: top;\n",
       "    }\n",
       "\n",
       "    .dataframe thead th {\n",
       "        text-align: right;\n",
       "    }\n",
       "</style>\n",
       "<table border=\"1\" class=\"dataframe\">\n",
       "  <thead>\n",
       "    <tr style=\"text-align: right;\">\n",
       "      <th></th>\n",
       "      <th>currency</th>\n",
       "      <th>date</th>\n",
       "      <th>fx</th>\n",
       "    </tr>\n",
       "  </thead>\n",
       "  <tbody>\n",
       "    <tr>\n",
       "      <th>0</th>\n",
       "      <td>GBP</td>\n",
       "      <td>2009-04-15</td>\n",
       "      <td>0.6671</td>\n",
       "    </tr>\n",
       "    <tr>\n",
       "      <th>1</th>\n",
       "      <td>GBP</td>\n",
       "      <td>2009-04-16</td>\n",
       "      <td>0.6707</td>\n",
       "    </tr>\n",
       "    <tr>\n",
       "      <th>2</th>\n",
       "      <td>GBP</td>\n",
       "      <td>2009-04-17</td>\n",
       "      <td>0.6767</td>\n",
       "    </tr>\n",
       "    <tr>\n",
       "      <th>3</th>\n",
       "      <td>GBP</td>\n",
       "      <td>2009-04-18</td>\n",
       "      <td>0.6767</td>\n",
       "    </tr>\n",
       "    <tr>\n",
       "      <th>4</th>\n",
       "      <td>GBP</td>\n",
       "      <td>2009-04-19</td>\n",
       "      <td>0.6767</td>\n",
       "    </tr>\n",
       "  </tbody>\n",
       "</table>\n",
       "</div>"
      ],
      "text/plain": [
       "  currency       date      fx\n",
       "0      GBP 2009-04-15  0.6671\n",
       "1      GBP 2009-04-16  0.6707\n",
       "2      GBP 2009-04-17  0.6767\n",
       "3      GBP 2009-04-18  0.6767\n",
       "4      GBP 2009-04-19  0.6767"
      ]
     },
     "execution_count": 29,
     "metadata": {},
     "output_type": "execute_result"
    }
   ],
   "source": [
    "daily.drop('Country',axis=1, inplace=True)\n",
    "daily.rename(columns={'Value':'fx'},inplace=True)\n",
    "\n",
    "daily=daily.fillna(method='ffill')\n",
    "daily.head()"
   ]
  },
  {
   "cell_type": "markdown",
   "metadata": {},
   "source": [
    "### Merge `ks` and `daily` datasets:\n",
    "\n",
    "First of all, I am creating a new date+currency column to be able to perform merging smoothly."
   ]
  },
  {
   "cell_type": "code",
   "execution_count": 30,
   "metadata": {},
   "outputs": [],
   "source": [
    "ks['date_cur'] = ks['launched_date'].astype(str)+ '_' + ks['currency'].astype(str)\n",
    "\n",
    "daily['date_cur'] = daily['date'].astype(str)+ '_' + daily['currency'].astype(str)"
   ]
  },
  {
   "cell_type": "code",
   "execution_count": 31,
   "metadata": {},
   "outputs": [
    {
     "data": {
      "text/html": [
       "<div>\n",
       "<style scoped>\n",
       "    .dataframe tbody tr th:only-of-type {\n",
       "        vertical-align: middle;\n",
       "    }\n",
       "\n",
       "    .dataframe tbody tr th {\n",
       "        vertical-align: top;\n",
       "    }\n",
       "\n",
       "    .dataframe thead th {\n",
       "        text-align: right;\n",
       "    }\n",
       "</style>\n",
       "<table border=\"1\" class=\"dataframe\">\n",
       "  <thead>\n",
       "    <tr style=\"text-align: right;\">\n",
       "      <th></th>\n",
       "      <th>name</th>\n",
       "      <th>main_category</th>\n",
       "      <th>currency_x</th>\n",
       "      <th>goal</th>\n",
       "      <th>pledged</th>\n",
       "      <th>state</th>\n",
       "      <th>backers</th>\n",
       "      <th>country</th>\n",
       "      <th>usd_pledged</th>\n",
       "      <th>name_len</th>\n",
       "      <th>...</th>\n",
       "      <th>launched_hour</th>\n",
       "      <th>deadline_hour</th>\n",
       "      <th>launched_month</th>\n",
       "      <th>launched_year</th>\n",
       "      <th>launched_weekend</th>\n",
       "      <th>deadline_weekend</th>\n",
       "      <th>date_cur</th>\n",
       "      <th>currency_y</th>\n",
       "      <th>date</th>\n",
       "      <th>fx</th>\n",
       "    </tr>\n",
       "  </thead>\n",
       "  <tbody>\n",
       "    <tr>\n",
       "      <th>0</th>\n",
       "      <td>The Songs of Adelaide &amp; Abullah</td>\n",
       "      <td>Publishing</td>\n",
       "      <td>GBP</td>\n",
       "      <td>1000.0</td>\n",
       "      <td>0.0</td>\n",
       "      <td>failed</td>\n",
       "      <td>0</td>\n",
       "      <td>GB</td>\n",
       "      <td>0.0</td>\n",
       "      <td>31</td>\n",
       "      <td>...</td>\n",
       "      <td>12</td>\n",
       "      <td>11</td>\n",
       "      <td>August</td>\n",
       "      <td>2015</td>\n",
       "      <td>False</td>\n",
       "      <td>False</td>\n",
       "      <td>2015-08-11_GBP</td>\n",
       "      <td>GBP</td>\n",
       "      <td>2015-08-11</td>\n",
       "      <td>0.6422</td>\n",
       "    </tr>\n",
       "    <tr>\n",
       "      <th>1</th>\n",
       "      <td>Where is Hank?</td>\n",
       "      <td>Film &amp; Video</td>\n",
       "      <td>USD</td>\n",
       "      <td>45000.0</td>\n",
       "      <td>220.0</td>\n",
       "      <td>failed</td>\n",
       "      <td>3</td>\n",
       "      <td>US</td>\n",
       "      <td>220.0</td>\n",
       "      <td>14</td>\n",
       "      <td>...</td>\n",
       "      <td>0</td>\n",
       "      <td>0</td>\n",
       "      <td>January</td>\n",
       "      <td>2013</td>\n",
       "      <td>True</td>\n",
       "      <td>False</td>\n",
       "      <td>2013-01-12_USD</td>\n",
       "      <td>USD</td>\n",
       "      <td>2013-01-12</td>\n",
       "      <td>1.0000</td>\n",
       "    </tr>\n",
       "    <tr>\n",
       "      <th>2</th>\n",
       "      <td>ToshiCapital Rekordz Needs Help to Complete Album</td>\n",
       "      <td>Music</td>\n",
       "      <td>USD</td>\n",
       "      <td>5000.0</td>\n",
       "      <td>1.0</td>\n",
       "      <td>failed</td>\n",
       "      <td>1</td>\n",
       "      <td>US</td>\n",
       "      <td>1.0</td>\n",
       "      <td>49</td>\n",
       "      <td>...</td>\n",
       "      <td>3</td>\n",
       "      <td>4</td>\n",
       "      <td>March</td>\n",
       "      <td>2012</td>\n",
       "      <td>True</td>\n",
       "      <td>False</td>\n",
       "      <td>2012-03-17_USD</td>\n",
       "      <td>USD</td>\n",
       "      <td>2012-03-17</td>\n",
       "      <td>1.0000</td>\n",
       "    </tr>\n",
       "    <tr>\n",
       "      <th>3</th>\n",
       "      <td>Monarch Espresso Bar</td>\n",
       "      <td>Food</td>\n",
       "      <td>USD</td>\n",
       "      <td>50000.0</td>\n",
       "      <td>52375.0</td>\n",
       "      <td>successful</td>\n",
       "      <td>224</td>\n",
       "      <td>US</td>\n",
       "      <td>52375.0</td>\n",
       "      <td>20</td>\n",
       "      <td>...</td>\n",
       "      <td>13</td>\n",
       "      <td>13</td>\n",
       "      <td>February</td>\n",
       "      <td>2016</td>\n",
       "      <td>False</td>\n",
       "      <td>False</td>\n",
       "      <td>2016-02-26_USD</td>\n",
       "      <td>USD</td>\n",
       "      <td>2016-02-26</td>\n",
       "      <td>1.0000</td>\n",
       "    </tr>\n",
       "    <tr>\n",
       "      <th>4</th>\n",
       "      <td>Support Solar Roasted Coffee &amp; Green Energy!  ...</td>\n",
       "      <td>Food</td>\n",
       "      <td>USD</td>\n",
       "      <td>1000.0</td>\n",
       "      <td>1205.0</td>\n",
       "      <td>successful</td>\n",
       "      <td>16</td>\n",
       "      <td>US</td>\n",
       "      <td>1205.0</td>\n",
       "      <td>60</td>\n",
       "      <td>...</td>\n",
       "      <td>18</td>\n",
       "      <td>18</td>\n",
       "      <td>December</td>\n",
       "      <td>2014</td>\n",
       "      <td>False</td>\n",
       "      <td>True</td>\n",
       "      <td>2014-12-01_USD</td>\n",
       "      <td>USD</td>\n",
       "      <td>2014-12-01</td>\n",
       "      <td>1.0000</td>\n",
       "    </tr>\n",
       "  </tbody>\n",
       "</table>\n",
       "<p>5 rows × 24 columns</p>\n",
       "</div>"
      ],
      "text/plain": [
       "                                                name main_category currency_x  \\\n",
       "0                    The Songs of Adelaide & Abullah    Publishing        GBP   \n",
       "1                                     Where is Hank?  Film & Video        USD   \n",
       "2  ToshiCapital Rekordz Needs Help to Complete Album         Music        USD   \n",
       "3                               Monarch Espresso Bar          Food        USD   \n",
       "4  Support Solar Roasted Coffee & Green Energy!  ...          Food        USD   \n",
       "\n",
       "      goal  pledged       state  backers country  usd_pledged  name_len  ...  \\\n",
       "0   1000.0      0.0      failed        0      GB          0.0        31  ...   \n",
       "1  45000.0    220.0      failed        3      US        220.0        14  ...   \n",
       "2   5000.0      1.0      failed        1      US          1.0        49  ...   \n",
       "3  50000.0  52375.0  successful      224      US      52375.0        20  ...   \n",
       "4   1000.0   1205.0  successful       16      US       1205.0        60  ...   \n",
       "\n",
       "   launched_hour deadline_hour launched_month  launched_year launched_weekend  \\\n",
       "0             12            11         August           2015            False   \n",
       "1              0             0        January           2013             True   \n",
       "2              3             4          March           2012             True   \n",
       "3             13            13       February           2016            False   \n",
       "4             18            18       December           2014            False   \n",
       "\n",
       "  deadline_weekend        date_cur currency_y       date      fx  \n",
       "0            False  2015-08-11_GBP        GBP 2015-08-11  0.6422  \n",
       "1            False  2013-01-12_USD        USD 2013-01-12  1.0000  \n",
       "2            False  2012-03-17_USD        USD 2012-03-17  1.0000  \n",
       "3            False  2016-02-26_USD        USD 2016-02-26  1.0000  \n",
       "4             True  2014-12-01_USD        USD 2014-12-01  1.0000  \n",
       "\n",
       "[5 rows x 24 columns]"
      ]
     },
     "execution_count": 31,
     "metadata": {},
     "output_type": "execute_result"
    }
   ],
   "source": [
    "df = pd.merge(ks, daily,  how='left', on='date_cur')\n",
    "df.head()"
   ]
  },
  {
   "cell_type": "markdown",
   "metadata": {},
   "source": [
    "#### Now, we can convert `goal` into USD.\n",
    "\n",
    "We need to know that our `goal` conversion into USD will be an estimation based on the exchange rate at the launch day. But it should not create an extra issue."
   ]
  },
  {
   "cell_type": "code",
   "execution_count": 32,
   "metadata": {},
   "outputs": [],
   "source": [
    "#df['pledged_usd'] = df['pledged']*df['fx']\n",
    "df['goal_usd'] = df['goal']*df['fx']\n",
    "#df.head()"
   ]
  },
  {
   "cell_type": "markdown",
   "metadata": {},
   "source": [
    "### drop unnecessary columns for the modelling\n",
    "\n",
    "Here, I drop `currency` column since it is highly correlated to `country` value and `country` has more information due to **Euro** since it is the currency of Eurozone countries. So, I think it is better to select `country` over `currency` column to keep more information."
   ]
  },
  {
   "cell_type": "code",
   "execution_count": 33,
   "metadata": {},
   "outputs": [],
   "source": [
    "df.drop(['currency_x', 'currency_y', 'fx', 'date_cur', 'date', 'pledged','usd_pledged','goal', 'backers'],axis=1,inplace=True)"
   ]
  },
  {
   "cell_type": "markdown",
   "metadata": {},
   "source": [
    "#### Duplicated Projects:\n",
    "\n",
    "After dropping unused features and feature engineering, we discover some duplicated projects. These duplicated projects seem like they are variations of a project. For example, a project called \"Sotro - The Social Introducer - {language} Translation\" has 10 different language versions, and I will keep only one of them. There are only 38 rows with this issue.\n"
   ]
  },
  {
   "cell_type": "code",
   "execution_count": 34,
   "metadata": {},
   "outputs": [
    {
     "data": {
      "text/html": [
       "<div>\n",
       "<style scoped>\n",
       "    .dataframe tbody tr th:only-of-type {\n",
       "        vertical-align: middle;\n",
       "    }\n",
       "\n",
       "    .dataframe tbody tr th {\n",
       "        vertical-align: top;\n",
       "    }\n",
       "\n",
       "    .dataframe thead th {\n",
       "        text-align: right;\n",
       "    }\n",
       "</style>\n",
       "<table border=\"1\" class=\"dataframe\">\n",
       "  <thead>\n",
       "    <tr style=\"text-align: right;\">\n",
       "      <th></th>\n",
       "      <th>name</th>\n",
       "      <th>main_category</th>\n",
       "      <th>state</th>\n",
       "      <th>country</th>\n",
       "      <th>name_len</th>\n",
       "      <th>name_wcount</th>\n",
       "      <th>launched_date</th>\n",
       "      <th>deadline_date</th>\n",
       "      <th>campaing_len</th>\n",
       "      <th>launched_hour</th>\n",
       "      <th>deadline_hour</th>\n",
       "      <th>launched_month</th>\n",
       "      <th>launched_year</th>\n",
       "      <th>launched_weekend</th>\n",
       "      <th>deadline_weekend</th>\n",
       "      <th>goal_usd</th>\n",
       "    </tr>\n",
       "  </thead>\n",
       "  <tbody>\n",
       "    <tr>\n",
       "      <th>128297</th>\n",
       "      <td>\"HOLY MOLEY\"</td>\n",
       "      <td>Film &amp; Video</td>\n",
       "      <td>failed</td>\n",
       "      <td>US</td>\n",
       "      <td>12</td>\n",
       "      <td>2</td>\n",
       "      <td>2012-04-26</td>\n",
       "      <td>2012-05-26</td>\n",
       "      <td>30</td>\n",
       "      <td>20</td>\n",
       "      <td>20</td>\n",
       "      <td>April</td>\n",
       "      <td>2012</td>\n",
       "      <td>False</td>\n",
       "      <td>True</td>\n",
       "      <td>25000.0</td>\n",
       "    </tr>\n",
       "    <tr>\n",
       "      <th>117678</th>\n",
       "      <td>100 sketches</td>\n",
       "      <td>Art</td>\n",
       "      <td>failed</td>\n",
       "      <td>US</td>\n",
       "      <td>12</td>\n",
       "      <td>2</td>\n",
       "      <td>2014-08-14</td>\n",
       "      <td>2014-09-13</td>\n",
       "      <td>30</td>\n",
       "      <td>2</td>\n",
       "      <td>2</td>\n",
       "      <td>August</td>\n",
       "      <td>2014</td>\n",
       "      <td>False</td>\n",
       "      <td>True</td>\n",
       "      <td>2000.0</td>\n",
       "    </tr>\n",
       "    <tr>\n",
       "      <th>235053</th>\n",
       "      <td>A Difficult Thank You</td>\n",
       "      <td>Film &amp; Video</td>\n",
       "      <td>successful</td>\n",
       "      <td>US</td>\n",
       "      <td>21</td>\n",
       "      <td>4</td>\n",
       "      <td>2012-04-03</td>\n",
       "      <td>2012-05-01</td>\n",
       "      <td>28</td>\n",
       "      <td>4</td>\n",
       "      <td>8</td>\n",
       "      <td>April</td>\n",
       "      <td>2012</td>\n",
       "      <td>False</td>\n",
       "      <td>False</td>\n",
       "      <td>3000.0</td>\n",
       "    </tr>\n",
       "    <tr>\n",
       "      <th>240129</th>\n",
       "      <td>A New Normal record</td>\n",
       "      <td>Music</td>\n",
       "      <td>successful</td>\n",
       "      <td>US</td>\n",
       "      <td>19</td>\n",
       "      <td>4</td>\n",
       "      <td>2012-06-20</td>\n",
       "      <td>2012-07-20</td>\n",
       "      <td>30</td>\n",
       "      <td>7</td>\n",
       "      <td>7</td>\n",
       "      <td>June</td>\n",
       "      <td>2012</td>\n",
       "      <td>False</td>\n",
       "      <td>False</td>\n",
       "      <td>3000.0</td>\n",
       "    </tr>\n",
       "    <tr>\n",
       "      <th>144221</th>\n",
       "      <td>An Evening with Kevin Thornton- Louisville</td>\n",
       "      <td>Art</td>\n",
       "      <td>failed</td>\n",
       "      <td>US</td>\n",
       "      <td>42</td>\n",
       "      <td>6</td>\n",
       "      <td>2010-07-30</td>\n",
       "      <td>2010-10-28</td>\n",
       "      <td>90</td>\n",
       "      <td>4</td>\n",
       "      <td>3</td>\n",
       "      <td>July</td>\n",
       "      <td>2010</td>\n",
       "      <td>False</td>\n",
       "      <td>False</td>\n",
       "      <td>1200.0</td>\n",
       "    </tr>\n",
       "    <tr>\n",
       "      <th>...</th>\n",
       "      <td>...</td>\n",
       "      <td>...</td>\n",
       "      <td>...</td>\n",
       "      <td>...</td>\n",
       "      <td>...</td>\n",
       "      <td>...</td>\n",
       "      <td>...</td>\n",
       "      <td>...</td>\n",
       "      <td>...</td>\n",
       "      <td>...</td>\n",
       "      <td>...</td>\n",
       "      <td>...</td>\n",
       "      <td>...</td>\n",
       "      <td>...</td>\n",
       "      <td>...</td>\n",
       "      <td>...</td>\n",
       "    </tr>\n",
       "    <tr>\n",
       "      <th>110694</th>\n",
       "      <td>Worldsmith Industries: Wrecked Vehicles for Sc...</td>\n",
       "      <td>Games</td>\n",
       "      <td>successful</td>\n",
       "      <td>US</td>\n",
       "      <td>59</td>\n",
       "      <td>7</td>\n",
       "      <td>2013-08-01</td>\n",
       "      <td>2013-08-31</td>\n",
       "      <td>30</td>\n",
       "      <td>18</td>\n",
       "      <td>18</td>\n",
       "      <td>August</td>\n",
       "      <td>2013</td>\n",
       "      <td>False</td>\n",
       "      <td>True</td>\n",
       "      <td>1000.0</td>\n",
       "    </tr>\n",
       "    <tr>\n",
       "      <th>83129</th>\n",
       "      <td>ZATTARO- Empowering Women through Stylish Wool...</td>\n",
       "      <td>Fashion</td>\n",
       "      <td>failed</td>\n",
       "      <td>US</td>\n",
       "      <td>52</td>\n",
       "      <td>7</td>\n",
       "      <td>2014-09-09</td>\n",
       "      <td>2014-10-09</td>\n",
       "      <td>30</td>\n",
       "      <td>17</td>\n",
       "      <td>17</td>\n",
       "      <td>September</td>\n",
       "      <td>2014</td>\n",
       "      <td>False</td>\n",
       "      <td>False</td>\n",
       "      <td>20000.0</td>\n",
       "    </tr>\n",
       "    <tr>\n",
       "      <th>5022</th>\n",
       "      <td>afterlife record service: a vinyl maintenance ...</td>\n",
       "      <td>Music</td>\n",
       "      <td>failed</td>\n",
       "      <td>US</td>\n",
       "      <td>57</td>\n",
       "      <td>7</td>\n",
       "      <td>2015-04-29</td>\n",
       "      <td>2015-05-29</td>\n",
       "      <td>30</td>\n",
       "      <td>5</td>\n",
       "      <td>5</td>\n",
       "      <td>April</td>\n",
       "      <td>2015</td>\n",
       "      <td>False</td>\n",
       "      <td>False</td>\n",
       "      <td>1000.0</td>\n",
       "    </tr>\n",
       "    <tr>\n",
       "      <th>279265</th>\n",
       "      <td>goopymart: chimples plush toy</td>\n",
       "      <td>Comics</td>\n",
       "      <td>failed</td>\n",
       "      <td>US</td>\n",
       "      <td>29</td>\n",
       "      <td>4</td>\n",
       "      <td>2009-05-13</td>\n",
       "      <td>2009-08-11</td>\n",
       "      <td>90</td>\n",
       "      <td>16</td>\n",
       "      <td>5</td>\n",
       "      <td>May</td>\n",
       "      <td>2009</td>\n",
       "      <td>False</td>\n",
       "      <td>False</td>\n",
       "      <td>19000.0</td>\n",
       "    </tr>\n",
       "    <tr>\n",
       "      <th>68590</th>\n",
       "      <td>goopymart: portable geek plushie</td>\n",
       "      <td>Comics</td>\n",
       "      <td>failed</td>\n",
       "      <td>US</td>\n",
       "      <td>32</td>\n",
       "      <td>4</td>\n",
       "      <td>2009-05-13</td>\n",
       "      <td>2009-08-11</td>\n",
       "      <td>90</td>\n",
       "      <td>16</td>\n",
       "      <td>5</td>\n",
       "      <td>May</td>\n",
       "      <td>2009</td>\n",
       "      <td>False</td>\n",
       "      <td>False</td>\n",
       "      <td>19000.0</td>\n",
       "    </tr>\n",
       "  </tbody>\n",
       "</table>\n",
       "<p>215 rows × 16 columns</p>\n",
       "</div>"
      ],
      "text/plain": [
       "                                                     name main_category  \\\n",
       "128297                                       \"HOLY MOLEY\"  Film & Video   \n",
       "117678                                       100 sketches           Art   \n",
       "235053                              A Difficult Thank You  Film & Video   \n",
       "240129                                A New Normal record         Music   \n",
       "144221         An Evening with Kevin Thornton- Louisville           Art   \n",
       "...                                                   ...           ...   \n",
       "110694  Worldsmith Industries: Wrecked Vehicles for Sc...         Games   \n",
       "83129   ZATTARO- Empowering Women through Stylish Wool...       Fashion   \n",
       "5022    afterlife record service: a vinyl maintenance ...         Music   \n",
       "279265                      goopymart: chimples plush toy        Comics   \n",
       "68590                    goopymart: portable geek plushie        Comics   \n",
       "\n",
       "             state country  name_len  name_wcount launched_date deadline_date  \\\n",
       "128297      failed      US        12            2    2012-04-26    2012-05-26   \n",
       "117678      failed      US        12            2    2014-08-14    2014-09-13   \n",
       "235053  successful      US        21            4    2012-04-03    2012-05-01   \n",
       "240129  successful      US        19            4    2012-06-20    2012-07-20   \n",
       "144221      failed      US        42            6    2010-07-30    2010-10-28   \n",
       "...            ...     ...       ...          ...           ...           ...   \n",
       "110694  successful      US        59            7    2013-08-01    2013-08-31   \n",
       "83129       failed      US        52            7    2014-09-09    2014-10-09   \n",
       "5022        failed      US        57            7    2015-04-29    2015-05-29   \n",
       "279265      failed      US        29            4    2009-05-13    2009-08-11   \n",
       "68590       failed      US        32            4    2009-05-13    2009-08-11   \n",
       "\n",
       "        campaing_len launched_hour deadline_hour launched_month launched_year  \\\n",
       "128297            30            20            20          April          2012   \n",
       "117678            30             2             2         August          2014   \n",
       "235053            28             4             8          April          2012   \n",
       "240129            30             7             7           June          2012   \n",
       "144221            90             4             3           July          2010   \n",
       "...              ...           ...           ...            ...           ...   \n",
       "110694            30            18            18         August          2013   \n",
       "83129             30            17            17      September          2014   \n",
       "5022              30             5             5          April          2015   \n",
       "279265            90            16             5            May          2009   \n",
       "68590             90            16             5            May          2009   \n",
       "\n",
       "        launched_weekend  deadline_weekend  goal_usd  \n",
       "128297             False              True   25000.0  \n",
       "117678             False              True    2000.0  \n",
       "235053             False             False    3000.0  \n",
       "240129             False             False    3000.0  \n",
       "144221             False             False    1200.0  \n",
       "...                  ...               ...       ...  \n",
       "110694             False              True    1000.0  \n",
       "83129              False             False   20000.0  \n",
       "5022               False             False    1000.0  \n",
       "279265             False             False   19000.0  \n",
       "68590              False             False   19000.0  \n",
       "\n",
       "[215 rows x 16 columns]"
      ]
     },
     "execution_count": 34,
     "metadata": {},
     "output_type": "execute_result"
    }
   ],
   "source": [
    "# duplicated projects:\n",
    "df[df.drop(['name','name_len','deadline_hour'],axis=1).duplicated(keep=False)].sort_values(by = 'name')"
   ]
  },
  {
   "cell_type": "code",
   "execution_count": 35,
   "metadata": {},
   "outputs": [
    {
     "data": {
      "text/html": [
       "<style  type=\"text/css\" >\n",
       "    #T_044a9730_ac96_11eb_bddb_88e9fe78e334row0_col0 {\n",
       "            background-color:  #b40426;\n",
       "            color:  #f1f1f1;\n",
       "        }    #T_044a9730_ac96_11eb_bddb_88e9fe78e334row0_col1 {\n",
       "            background-color:  #d1493f;\n",
       "            color:  #f1f1f1;\n",
       "        }    #T_044a9730_ac96_11eb_bddb_88e9fe78e334row0_col2 {\n",
       "            background-color:  #3b4cc0;\n",
       "            color:  #f1f1f1;\n",
       "        }    #T_044a9730_ac96_11eb_bddb_88e9fe78e334row0_col3 {\n",
       "            background-color:  #5e7de7;\n",
       "            color:  #000000;\n",
       "        }    #T_044a9730_ac96_11eb_bddb_88e9fe78e334row0_col4 {\n",
       "            background-color:  #5b7ae5;\n",
       "            color:  #000000;\n",
       "        }    #T_044a9730_ac96_11eb_bddb_88e9fe78e334row0_col5 {\n",
       "            background-color:  #3b4cc0;\n",
       "            color:  #f1f1f1;\n",
       "        }    #T_044a9730_ac96_11eb_bddb_88e9fe78e334row1_col0 {\n",
       "            background-color:  #d0473d;\n",
       "            color:  #f1f1f1;\n",
       "        }    #T_044a9730_ac96_11eb_bddb_88e9fe78e334row1_col1 {\n",
       "            background-color:  #b40426;\n",
       "            color:  #f1f1f1;\n",
       "        }    #T_044a9730_ac96_11eb_bddb_88e9fe78e334row1_col2 {\n",
       "            background-color:  #3b4cc0;\n",
       "            color:  #f1f1f1;\n",
       "        }    #T_044a9730_ac96_11eb_bddb_88e9fe78e334row1_col3 {\n",
       "            background-color:  #5f7fe8;\n",
       "            color:  #000000;\n",
       "        }    #T_044a9730_ac96_11eb_bddb_88e9fe78e334row1_col4 {\n",
       "            background-color:  #5b7ae5;\n",
       "            color:  #000000;\n",
       "        }    #T_044a9730_ac96_11eb_bddb_88e9fe78e334row1_col5 {\n",
       "            background-color:  #3b4cc0;\n",
       "            color:  #f1f1f1;\n",
       "        }    #T_044a9730_ac96_11eb_bddb_88e9fe78e334row2_col0 {\n",
       "            background-color:  #445acc;\n",
       "            color:  #f1f1f1;\n",
       "        }    #T_044a9730_ac96_11eb_bddb_88e9fe78e334row2_col1 {\n",
       "            background-color:  #4358cb;\n",
       "            color:  #f1f1f1;\n",
       "        }    #T_044a9730_ac96_11eb_bddb_88e9fe78e334row2_col2 {\n",
       "            background-color:  #b40426;\n",
       "            color:  #f1f1f1;\n",
       "        }    #T_044a9730_ac96_11eb_bddb_88e9fe78e334row2_col3 {\n",
       "            background-color:  #6687ed;\n",
       "            color:  #000000;\n",
       "        }    #T_044a9730_ac96_11eb_bddb_88e9fe78e334row2_col4 {\n",
       "            background-color:  #6b8df0;\n",
       "            color:  #000000;\n",
       "        }    #T_044a9730_ac96_11eb_bddb_88e9fe78e334row2_col5 {\n",
       "            background-color:  #4257c9;\n",
       "            color:  #f1f1f1;\n",
       "        }    #T_044a9730_ac96_11eb_bddb_88e9fe78e334row3_col0 {\n",
       "            background-color:  #3d50c3;\n",
       "            color:  #f1f1f1;\n",
       "        }    #T_044a9730_ac96_11eb_bddb_88e9fe78e334row3_col1 {\n",
       "            background-color:  #3d50c3;\n",
       "            color:  #f1f1f1;\n",
       "        }    #T_044a9730_ac96_11eb_bddb_88e9fe78e334row3_col2 {\n",
       "            background-color:  #3c4ec2;\n",
       "            color:  #f1f1f1;\n",
       "        }    #T_044a9730_ac96_11eb_bddb_88e9fe78e334row3_col3 {\n",
       "            background-color:  #b40426;\n",
       "            color:  #f1f1f1;\n",
       "        }    #T_044a9730_ac96_11eb_bddb_88e9fe78e334row3_col4 {\n",
       "            background-color:  #3b4cc0;\n",
       "            color:  #f1f1f1;\n",
       "        }    #T_044a9730_ac96_11eb_bddb_88e9fe78e334row3_col5 {\n",
       "            background-color:  #3b4cc0;\n",
       "            color:  #f1f1f1;\n",
       "        }    #T_044a9730_ac96_11eb_bddb_88e9fe78e334row4_col0 {\n",
       "            background-color:  #3b4cc0;\n",
       "            color:  #f1f1f1;\n",
       "        }    #T_044a9730_ac96_11eb_bddb_88e9fe78e334row4_col1 {\n",
       "            background-color:  #3b4cc0;\n",
       "            color:  #f1f1f1;\n",
       "        }    #T_044a9730_ac96_11eb_bddb_88e9fe78e334row4_col2 {\n",
       "            background-color:  #4055c8;\n",
       "            color:  #f1f1f1;\n",
       "        }    #T_044a9730_ac96_11eb_bddb_88e9fe78e334row4_col3 {\n",
       "            background-color:  #3b4cc0;\n",
       "            color:  #f1f1f1;\n",
       "        }    #T_044a9730_ac96_11eb_bddb_88e9fe78e334row4_col4 {\n",
       "            background-color:  #b40426;\n",
       "            color:  #f1f1f1;\n",
       "        }    #T_044a9730_ac96_11eb_bddb_88e9fe78e334row4_col5 {\n",
       "            background-color:  #3c4ec2;\n",
       "            color:  #f1f1f1;\n",
       "        }    #T_044a9730_ac96_11eb_bddb_88e9fe78e334row5_col0 {\n",
       "            background-color:  #3d50c3;\n",
       "            color:  #f1f1f1;\n",
       "        }    #T_044a9730_ac96_11eb_bddb_88e9fe78e334row5_col1 {\n",
       "            background-color:  #3c4ec2;\n",
       "            color:  #f1f1f1;\n",
       "        }    #T_044a9730_ac96_11eb_bddb_88e9fe78e334row5_col2 {\n",
       "            background-color:  #3b4cc0;\n",
       "            color:  #f1f1f1;\n",
       "        }    #T_044a9730_ac96_11eb_bddb_88e9fe78e334row5_col3 {\n",
       "            background-color:  #5f7fe8;\n",
       "            color:  #000000;\n",
       "        }    #T_044a9730_ac96_11eb_bddb_88e9fe78e334row5_col4 {\n",
       "            background-color:  #5f7fe8;\n",
       "            color:  #000000;\n",
       "        }    #T_044a9730_ac96_11eb_bddb_88e9fe78e334row5_col5 {\n",
       "            background-color:  #b40426;\n",
       "            color:  #f1f1f1;\n",
       "        }</style><table id=\"T_044a9730_ac96_11eb_bddb_88e9fe78e334\" ><thead>    <tr>        <th class=\"blank level0\" ></th>        <th class=\"col_heading level0 col0\" >name_len</th>        <th class=\"col_heading level0 col1\" >name_wcount</th>        <th class=\"col_heading level0 col2\" >campaing_len</th>        <th class=\"col_heading level0 col3\" >launched_weekend</th>        <th class=\"col_heading level0 col4\" >deadline_weekend</th>        <th class=\"col_heading level0 col5\" >goal_usd</th>    </tr></thead><tbody>\n",
       "                <tr>\n",
       "                        <th id=\"T_044a9730_ac96_11eb_bddb_88e9fe78e334level0_row0\" class=\"row_heading level0 row0\" >name_len</th>\n",
       "                        <td id=\"T_044a9730_ac96_11eb_bddb_88e9fe78e334row0_col0\" class=\"data row0 col0\" >1.0000</td>\n",
       "                        <td id=\"T_044a9730_ac96_11eb_bddb_88e9fe78e334row0_col1\" class=\"data row0 col1\" >0.9170</td>\n",
       "                        <td id=\"T_044a9730_ac96_11eb_bddb_88e9fe78e334row0_col2\" class=\"data row0 col2\" >0.0203</td>\n",
       "                        <td id=\"T_044a9730_ac96_11eb_bddb_88e9fe78e334row0_col3\" class=\"data row0 col3\" >-0.0036</td>\n",
       "                        <td id=\"T_044a9730_ac96_11eb_bddb_88e9fe78e334row0_col4\" class=\"data row0 col4\" >-0.0115</td>\n",
       "                        <td id=\"T_044a9730_ac96_11eb_bddb_88e9fe78e334row0_col5\" class=\"data row0 col5\" >-0.0016</td>\n",
       "            </tr>\n",
       "            <tr>\n",
       "                        <th id=\"T_044a9730_ac96_11eb_bddb_88e9fe78e334level0_row1\" class=\"row_heading level0 row1\" >name_wcount</th>\n",
       "                        <td id=\"T_044a9730_ac96_11eb_bddb_88e9fe78e334row1_col0\" class=\"data row1 col0\" >0.9170</td>\n",
       "                        <td id=\"T_044a9730_ac96_11eb_bddb_88e9fe78e334row1_col1\" class=\"data row1 col1\" >1.0000</td>\n",
       "                        <td id=\"T_044a9730_ac96_11eb_bddb_88e9fe78e334row1_col2\" class=\"data row1 col2\" >0.0176</td>\n",
       "                        <td id=\"T_044a9730_ac96_11eb_bddb_88e9fe78e334row1_col3\" class=\"data row1 col3\" >-0.0016</td>\n",
       "                        <td id=\"T_044a9730_ac96_11eb_bddb_88e9fe78e334row1_col4\" class=\"data row1 col4\" >-0.0111</td>\n",
       "                        <td id=\"T_044a9730_ac96_11eb_bddb_88e9fe78e334row1_col5\" class=\"data row1 col5\" >-0.0044</td>\n",
       "            </tr>\n",
       "            <tr>\n",
       "                        <th id=\"T_044a9730_ac96_11eb_bddb_88e9fe78e334level0_row2\" class=\"row_heading level0 row2\" >campaing_len</th>\n",
       "                        <td id=\"T_044a9730_ac96_11eb_bddb_88e9fe78e334row2_col0\" class=\"data row2 col0\" >0.0203</td>\n",
       "                        <td id=\"T_044a9730_ac96_11eb_bddb_88e9fe78e334row2_col1\" class=\"data row2 col1\" >0.0176</td>\n",
       "                        <td id=\"T_044a9730_ac96_11eb_bddb_88e9fe78e334row2_col2\" class=\"data row2 col2\" >1.0000</td>\n",
       "                        <td id=\"T_044a9730_ac96_11eb_bddb_88e9fe78e334row2_col3\" class=\"data row2 col3\" >0.0217</td>\n",
       "                        <td id=\"T_044a9730_ac96_11eb_bddb_88e9fe78e334row2_col4\" class=\"data row2 col4\" >0.0382</td>\n",
       "                        <td id=\"T_044a9730_ac96_11eb_bddb_88e9fe78e334row2_col5\" class=\"data row2 col5\" >0.0212</td>\n",
       "            </tr>\n",
       "            <tr>\n",
       "                        <th id=\"T_044a9730_ac96_11eb_bddb_88e9fe78e334level0_row3\" class=\"row_heading level0 row3\" >launched_weekend</th>\n",
       "                        <td id=\"T_044a9730_ac96_11eb_bddb_88e9fe78e334row3_col0\" class=\"data row3 col0\" >-0.0036</td>\n",
       "                        <td id=\"T_044a9730_ac96_11eb_bddb_88e9fe78e334row3_col1\" class=\"data row3 col1\" >-0.0016</td>\n",
       "                        <td id=\"T_044a9730_ac96_11eb_bddb_88e9fe78e334row3_col2\" class=\"data row3 col2\" >0.0217</td>\n",
       "                        <td id=\"T_044a9730_ac96_11eb_bddb_88e9fe78e334row3_col3\" class=\"data row3 col3\" >1.0000</td>\n",
       "                        <td id=\"T_044a9730_ac96_11eb_bddb_88e9fe78e334row3_col4\" class=\"data row3 col4\" >-0.1351</td>\n",
       "                        <td id=\"T_044a9730_ac96_11eb_bddb_88e9fe78e334row3_col5\" class=\"data row3 col5\" >-0.0008</td>\n",
       "            </tr>\n",
       "            <tr>\n",
       "                        <th id=\"T_044a9730_ac96_11eb_bddb_88e9fe78e334level0_row4\" class=\"row_heading level0 row4\" >deadline_weekend</th>\n",
       "                        <td id=\"T_044a9730_ac96_11eb_bddb_88e9fe78e334row4_col0\" class=\"data row4 col0\" >-0.0115</td>\n",
       "                        <td id=\"T_044a9730_ac96_11eb_bddb_88e9fe78e334row4_col1\" class=\"data row4 col1\" >-0.0111</td>\n",
       "                        <td id=\"T_044a9730_ac96_11eb_bddb_88e9fe78e334row4_col2\" class=\"data row4 col2\" >0.0382</td>\n",
       "                        <td id=\"T_044a9730_ac96_11eb_bddb_88e9fe78e334row4_col3\" class=\"data row4 col3\" >-0.1351</td>\n",
       "                        <td id=\"T_044a9730_ac96_11eb_bddb_88e9fe78e334row4_col4\" class=\"data row4 col4\" >1.0000</td>\n",
       "                        <td id=\"T_044a9730_ac96_11eb_bddb_88e9fe78e334row4_col5\" class=\"data row4 col5\" >0.0021</td>\n",
       "            </tr>\n",
       "            <tr>\n",
       "                        <th id=\"T_044a9730_ac96_11eb_bddb_88e9fe78e334level0_row5\" class=\"row_heading level0 row5\" >goal_usd</th>\n",
       "                        <td id=\"T_044a9730_ac96_11eb_bddb_88e9fe78e334row5_col0\" class=\"data row5 col0\" >-0.0016</td>\n",
       "                        <td id=\"T_044a9730_ac96_11eb_bddb_88e9fe78e334row5_col1\" class=\"data row5 col1\" >-0.0044</td>\n",
       "                        <td id=\"T_044a9730_ac96_11eb_bddb_88e9fe78e334row5_col2\" class=\"data row5 col2\" >0.0212</td>\n",
       "                        <td id=\"T_044a9730_ac96_11eb_bddb_88e9fe78e334row5_col3\" class=\"data row5 col3\" >-0.0008</td>\n",
       "                        <td id=\"T_044a9730_ac96_11eb_bddb_88e9fe78e334row5_col4\" class=\"data row5 col4\" >0.0021</td>\n",
       "                        <td id=\"T_044a9730_ac96_11eb_bddb_88e9fe78e334row5_col5\" class=\"data row5 col5\" >1.0000</td>\n",
       "            </tr>\n",
       "    </tbody></table>"
      ],
      "text/plain": [
       "<pandas.io.formats.style.Styler at 0x7fcd61fb4fd0>"
      ]
     },
     "execution_count": 35,
     "metadata": {},
     "output_type": "execute_result"
    }
   ],
   "source": [
    "corr = df.corr()\n",
    "corr.style.background_gradient(cmap='coolwarm').set_precision(4)"
   ]
  },
  {
   "cell_type": "markdown",
   "metadata": {},
   "source": [
    "I will drop the features that I created `name_len` since it is highly correlated the other feature I created `name_wcount`.\n",
    "\n",
    "Also, it will drop `deadline_hour` as well."
   ]
  },
  {
   "cell_type": "code",
   "execution_count": 36,
   "metadata": {},
   "outputs": [],
   "source": [
    "df.drop(['name', 'name_len','deadline_hour'], axis=1,inplace=True)"
   ]
  },
  {
   "cell_type": "code",
   "execution_count": 37,
   "metadata": {},
   "outputs": [],
   "source": [
    "df.drop_duplicates(inplace=True)"
   ]
  },
  {
   "cell_type": "code",
   "execution_count": 38,
   "metadata": {},
   "outputs": [
    {
     "name": "stdout",
     "output_type": "stream",
     "text": [
      "<class 'pandas.core.frame.DataFrame'>\n",
      "Int64Index: 280938 entries, 0 to 281060\n",
      "Data columns (total 13 columns):\n",
      " #   Column            Non-Null Count   Dtype   \n",
      "---  ------            --------------   -----   \n",
      " 0   main_category     280938 non-null  object  \n",
      " 1   state             280938 non-null  object  \n",
      " 2   country           280938 non-null  object  \n",
      " 3   name_wcount       280938 non-null  int64   \n",
      " 4   launched_date     280938 non-null  object  \n",
      " 5   deadline_date     280938 non-null  object  \n",
      " 6   campaing_len      280938 non-null  int64   \n",
      " 7   launched_hour     280938 non-null  category\n",
      " 8   launched_month    280938 non-null  object  \n",
      " 9   launched_year     280938 non-null  category\n",
      " 10  launched_weekend  280938 non-null  bool    \n",
      " 11  deadline_weekend  280938 non-null  bool    \n",
      " 12  goal_usd          280938 non-null  float64 \n",
      "dtypes: bool(2), category(2), float64(1), int64(2), object(6)\n",
      "memory usage: 22.5+ MB\n"
     ]
    }
   ],
   "source": [
    "df.info()"
   ]
  },
  {
   "cell_type": "code",
   "execution_count": 39,
   "metadata": {},
   "outputs": [],
   "source": [
    "df.drop(['launched_date','deadline_date'],axis=1,inplace=True)"
   ]
  },
  {
   "cell_type": "markdown",
   "metadata": {},
   "source": [
    "#### PandasProfiling Cleaned Data Report:\n",
    "\n",
    "Have a look at the cleaned data on [Cleaned Data Report](./doc/cleaned_data_report.html) before modelling stage."
   ]
  },
  {
   "cell_type": "code",
   "execution_count": 40,
   "metadata": {},
   "outputs": [
    {
     "data": {
      "application/vnd.jupyter.widget-view+json": {
       "model_id": "b7c95de9fdeb46ddb88a398d6462509e",
       "version_major": 2,
       "version_minor": 0
      },
      "text/plain": [
       "Summarize dataset:   0%|          | 0/25 [00:00<?, ?it/s]"
      ]
     },
     "metadata": {},
     "output_type": "display_data"
    },
    {
     "data": {
      "application/vnd.jupyter.widget-view+json": {
       "model_id": "57f49ad2b5fb43ba94a37859c4d0c367",
       "version_major": 2,
       "version_minor": 0
      },
      "text/plain": [
       "Generate report structure:   0%|          | 0/1 [00:00<?, ?it/s]"
      ]
     },
     "metadata": {},
     "output_type": "display_data"
    },
    {
     "data": {
      "application/vnd.jupyter.widget-view+json": {
       "model_id": "453a43611d8a4d549bdd13bf2aadc970",
       "version_major": 2,
       "version_minor": 0
      },
      "text/plain": [
       "Render HTML:   0%|          | 0/1 [00:00<?, ?it/s]"
      ]
     },
     "metadata": {},
     "output_type": "display_data"
    },
    {
     "data": {
      "application/vnd.jupyter.widget-view+json": {
       "model_id": "919659f166894e8d8d743ce5c90b72bf",
       "version_major": 2,
       "version_minor": 0
      },
      "text/plain": [
       "Export report to file:   0%|          | 0/1 [00:00<?, ?it/s]"
      ]
     },
     "metadata": {},
     "output_type": "display_data"
    }
   ],
   "source": [
    "cleaned_data = ProfileReport(df, title='Examine for One More Time', explorative=True)\n",
    "#cleaned_data\n",
    "cleaned_data.to_file(\"cleaned_data_report.html\")"
   ]
  },
  {
   "cell_type": "code",
   "execution_count": 41,
   "metadata": {},
   "outputs": [],
   "source": [
    "#sns.pairplot(df, hue=\"state\")"
   ]
  },
  {
   "cell_type": "markdown",
   "metadata": {},
   "source": [
    "### Preprocessing of the remaining columns for the modelling:\n",
    "\n",
    "\n",
    "I am using **StandardScaler** to get standard normal distributed numeric features. Also, **OneHotEncoding** is applied to get dummy variables for categorical features."
   ]
  },
  {
   "cell_type": "code",
   "execution_count": 42,
   "metadata": {},
   "outputs": [],
   "source": [
    "d = {'failed': False, 'successful': True}\n",
    "df['state'] = df['state'].map(d)"
   ]
  },
  {
   "cell_type": "code",
   "execution_count": 43,
   "metadata": {},
   "outputs": [],
   "source": [
    "y = df.loc[:, df.columns == 'state']\n",
    "X = df.loc[:, df.columns != 'state']"
   ]
  },
  {
   "cell_type": "code",
   "execution_count": 44,
   "metadata": {},
   "outputs": [],
   "source": [
    "numeric_features = X.select_dtypes(exclude=\"object\").columns\n",
    "categorical_features =  X.select_dtypes(include=\"object\").columns"
   ]
  },
  {
   "cell_type": "code",
   "execution_count": 45,
   "metadata": {},
   "outputs": [],
   "source": [
    "numeric_transformer = Pipeline(steps=[\n",
    "                                      ('scaler', StandardScaler())\n",
    "                                    ])\n",
    "\n",
    "\n",
    "categorical_transformer = Pipeline(steps=[\n",
    "                                          ('onehot', OneHotEncoder(handle_unknown='ignore'))\n",
    "                                         ])\n",
    "\n",
    "preprocessor = ColumnTransformer(\n",
    "                                 transformers=[\n",
    "                                    ('num', numeric_transformer, numeric_features),\n",
    "                                    ('cat', categorical_transformer, categorical_features)\n",
    "                                ])"
   ]
  },
  {
   "cell_type": "markdown",
   "metadata": {},
   "source": [
    "Data is partitioned into train, validation and test sets."
   ]
  },
  {
   "cell_type": "code",
   "execution_count": 46,
   "metadata": {},
   "outputs": [],
   "source": [
    "X_trainvalid, X_test, y_trainvalid, y_test = train_test_split(X, y, train_size=0.8, random_state=13)\n",
    "X_train, X_valid, y_train, y_valid = train_test_split(X_trainvalid, y_trainvalid, \n",
    "                                                          train_size=0.75, random_state=13)"
   ]
  },
  {
   "cell_type": "code",
   "execution_count": 47,
   "metadata": {},
   "outputs": [],
   "source": [
    "## reusing my code from an old repository:\n",
    "## https://github.com/cemsinano/asteroid_classification/blob/main/src/Asteroid_Classification.ipynb\n",
    "\n",
    "\n",
    "def get_scores(model, \n",
    "                X_train, y_train,\n",
    "                X_valid, y_valid, \n",
    "                show = True\n",
    "               ):\n",
    "    \"\"\"\n",
    "    Returns train and validation error given a model\n",
    "    train and validation X and y portions\n",
    "    Parameters\n",
    "    ----------\n",
    "    model: sklearn classifier model\n",
    "        The sklearn model\n",
    "    X_train: numpy.ndarray        \n",
    "        The X part of the train set\n",
    "    y_train: numpy.ndarray\n",
    "        The y part of the train set    \n",
    "    X_valid: numpy.ndarray        \n",
    "        The X part of the validation set\n",
    "    y_valid: numpy.ndarray\n",
    "        The y part of the validation set    \n",
    "    Returns\n",
    "    -------\n",
    "        train_err: float\n",
    "        test_err: float            \n",
    "    \"\"\" \n",
    "    y_pred = model.predict(X_valid)\n",
    "    train_err = (1-model.score(X_train, y_train))\n",
    "    valid_err = (1-model.score(X_valid, y_valid))\n",
    "    \n",
    "    if show: \n",
    "        print(\"Training error:   %.2f\" % train_err)\n",
    "        print(\"Validation error: %.2f\" % valid_err)\n",
    "        print('\\n')\n",
    "    return train_err, valid_err \n",
    "\n",
    "\n",
    "def display_confusion_matrix_classification_report(model, X_valid, y_valid, \n",
    "                                                   labels=['failure', 'successful'],\n",
    "                                                   disp_title = 'Confusion matrix for the dataset'):\n",
    "    \"\"\"\n",
    "    Displays confusion matrix and classification report. \n",
    "    \n",
    "    Arguments\n",
    "    ---------     \n",
    "    model -- sklearn classifier model\n",
    "        The sklearn model\n",
    "    X_valid -- numpy.ndarray        \n",
    "        The X part of the validation set\n",
    "    y_valid -- numpy.ndarray\n",
    "        The y part of the validation set       \n",
    "\n",
    "    Keyword arguments:\n",
    "    -----------\n",
    "    labels -- list (default = ['failure', 'successful'])\n",
    "        The labels shown in the confusion matrix\n",
    "    Returns\n",
    "    -------\n",
    "        None\n",
    "    \"\"\"\n",
    "    ### Display confusion matrix \n",
    "    disp = plot_confusion_matrix(model, X_valid, y_valid,\n",
    "                                 display_labels=labels,\n",
    "                                 cmap=plt.cm.Blues, \n",
    "                                 values_format = 'd')\n",
    "    disp.ax_.set_title(disp_title)\n",
    "\n",
    "    ### Print classification report\n",
    "    print(classification_report(y_valid, model.predict(X_valid)))"
   ]
  },
  {
   "cell_type": "markdown",
   "metadata": {},
   "source": [
    "### Modelling and Models to Evaluate\n",
    "\n",
    "I believe **KNeighborsClassifier** is not a suitable model for this data since we have a couple of categorical features and I am using OneHotEncoding method to create dummy variables for each category. Even though I may fit a knn model, it will be painfully slow. Therefore, I am not including it to my candidate models. **Support Vector Machine Classifier** is very slow as well, so I don't include that model for the same reason. **Naive Bayes** is another classification method I am going to skip due to sparse data. **Neural Networks** may perform well but I am going to skip it for this exercise.\n",
    "\n",
    "Included models can be seen below in the summary table."
   ]
  },
  {
   "cell_type": "code",
   "execution_count": null,
   "metadata": {},
   "outputs": [
    {
     "name": "stdout",
     "output_type": "stream",
     "text": [
      "logistic regression fitting...\n",
      "done..\n",
      "lasso logistic fitting...\n",
      "done..\n",
      "decision tree fitting...\n"
     ]
    }
   ],
   "source": [
    "# Lets create an empty dictionary to store all the results\n",
    "results_dict = {}\n",
    "\n",
    "round_list = lambda i : [x.round(3) for x in precision_recall_fscore_support(y_valid, y_pred)[i]]\n",
    "\n",
    "models = {\n",
    "          #'kNN': KNeighborsClassifier(),\n",
    "          #'naive bayes': CategoricalNB(),\n",
    "          'logistic regression': LogisticRegression(),\n",
    "          'lasso logistic': LogisticRegression(penalty='l1',solver='saga'),\n",
    "          'decision tree': DecisionTreeClassifier(),\n",
    "          'xgboost' : XGBClassifier(),\n",
    "          'lgbm': LGBMClassifier(),\n",
    "          'adaboost' : AdaBoostClassifier(), \n",
    "          'random forest' : RandomForestClassifier(max_depth = 6) \n",
    "         }\n",
    "\n",
    "for model_name, model in models.items():\n",
    "    t = time.time()\n",
    "    print(model_name, 'fitting...')\n",
    "    clf = Pipeline(steps=[('preprocessor', preprocessor),\n",
    "                          ('classifier', model)])\n",
    "\n",
    "    clf.fit(X_train, y_train)\n",
    "    tr_err, valid_err = get_scores(clf, X_train, y_train, \n",
    "                                   X_valid, y_valid, show = False)\n",
    "    cross_val = cross_val_score(clf, X_train, y_train, cv=5)\n",
    "    t_fit = time.time() \n",
    "    y_pred = clf.predict(X_valid)\n",
    "    #f1_sc = f1_score(y_valid, y_pred)\n",
    "    prf1 = precision_recall_fscore_support(y_valid, y_pred)\n",
    "    t_predict = time.time() \n",
    "    \n",
    "    time_to_fit = t_fit - t\n",
    "    time_to_predict = t_predict - t_fit\n",
    "    #print('time to fit:', time_to_fit)\n",
    "    #print('time to predict:', time_to_predict)\n",
    "    print('done..')\n",
    "    \n",
    "    results_dict[model_name] = [\"%0.2f (+/- %0.2f)\" % (cross_val.mean(), cross_val.std() * 2),\n",
    "                                round(1-valid_err,3), \n",
    "                                round_list(0),\n",
    "                                round_list(1),\n",
    "                                round_list(2),\n",
    "                                round(time_to_fit,4), round(time_to_predict,4)]"
   ]
  },
  {
   "cell_type": "code",
   "execution_count": 56,
   "metadata": {},
   "outputs": [
    {
     "data": {
      "text/html": [
       "<div>\n",
       "<style scoped>\n",
       "    .dataframe tbody tr th:only-of-type {\n",
       "        vertical-align: middle;\n",
       "    }\n",
       "\n",
       "    .dataframe tbody tr th {\n",
       "        vertical-align: top;\n",
       "    }\n",
       "\n",
       "    .dataframe thead th {\n",
       "        text-align: right;\n",
       "    }\n",
       "</style>\n",
       "<table border=\"1\" class=\"dataframe\">\n",
       "  <thead>\n",
       "    <tr style=\"text-align: right;\">\n",
       "      <th></th>\n",
       "      <th>Training CV Accuracy</th>\n",
       "      <th>Validation accuracy</th>\n",
       "      <th>Precision on Valid.</th>\n",
       "      <th>Recall on Valid.</th>\n",
       "      <th>F1 Score on Valid.</th>\n",
       "      <th>Fit Time in sec</th>\n",
       "      <th>Predict Time in sec</th>\n",
       "    </tr>\n",
       "  </thead>\n",
       "  <tbody>\n",
       "    <tr>\n",
       "      <th>logistic regression</th>\n",
       "      <td>0.65 (+/- 0.00)</td>\n",
       "      <td>0.648</td>\n",
       "      <td>[0.667, 0.595]</td>\n",
       "      <td>[0.823, 0.387]</td>\n",
       "      <td>[0.737, 0.469]</td>\n",
       "      <td>8.7145</td>\n",
       "      <td>0.1319</td>\n",
       "    </tr>\n",
       "    <tr>\n",
       "      <th>lasso logistic</th>\n",
       "      <td>0.64 (+/- 0.01)</td>\n",
       "      <td>0.642</td>\n",
       "      <td>[0.66, 0.587]</td>\n",
       "      <td>[0.828, 0.363]</td>\n",
       "      <td>[0.735, 0.449]</td>\n",
       "      <td>69.7904</td>\n",
       "      <td>0.118</td>\n",
       "    </tr>\n",
       "    <tr>\n",
       "      <th>decision tree</th>\n",
       "      <td>0.59 (+/- 0.01)</td>\n",
       "      <td>0.598</td>\n",
       "      <td>[0.665, 0.499]</td>\n",
       "      <td>[0.66, 0.505]</td>\n",
       "      <td>[0.663, 0.502]</td>\n",
       "      <td>73.3898</td>\n",
       "      <td>0.1344</td>\n",
       "    </tr>\n",
       "    <tr>\n",
       "      <th>xgboost</th>\n",
       "      <td>0.68 (+/- 0.00)</td>\n",
       "      <td>0.687</td>\n",
       "      <td>[0.715, 0.631]</td>\n",
       "      <td>[0.792, 0.529]</td>\n",
       "      <td>[0.752, 0.576]</td>\n",
       "      <td>26.1154</td>\n",
       "      <td>0.3562</td>\n",
       "    </tr>\n",
       "    <tr>\n",
       "      <th>lgbm</th>\n",
       "      <td>0.68 (+/- 0.00)</td>\n",
       "      <td>0.687</td>\n",
       "      <td>[0.713, 0.634]</td>\n",
       "      <td>[0.797, 0.523]</td>\n",
       "      <td>[0.753, 0.573]</td>\n",
       "      <td>6.8097</td>\n",
       "      <td>0.2363</td>\n",
       "    </tr>\n",
       "    <tr>\n",
       "      <th>adaboost</th>\n",
       "      <td>0.67 (+/- 0.00)</td>\n",
       "      <td>0.669</td>\n",
       "      <td>[0.693, 0.614]</td>\n",
       "      <td>[0.801, 0.472]</td>\n",
       "      <td>[0.743, 0.534]</td>\n",
       "      <td>28.666</td>\n",
       "      <td>0.3918</td>\n",
       "    </tr>\n",
       "    <tr>\n",
       "      <th>random forest</th>\n",
       "      <td>0.64 (+/- 0.00)</td>\n",
       "      <td>0.646</td>\n",
       "      <td>[0.64, 0.68]</td>\n",
       "      <td>[0.93, 0.222]</td>\n",
       "      <td>[0.758, 0.334]</td>\n",
       "      <td>45.9142</td>\n",
       "      <td>0.4916</td>\n",
       "    </tr>\n",
       "  </tbody>\n",
       "</table>\n",
       "</div>"
      ],
      "text/plain": [
       "                    Training CV Accuracy Validation accuracy  \\\n",
       "logistic regression      0.65 (+/- 0.00)               0.648   \n",
       "lasso logistic           0.64 (+/- 0.01)               0.642   \n",
       "decision tree            0.59 (+/- 0.01)               0.598   \n",
       "xgboost                  0.68 (+/- 0.00)               0.687   \n",
       "lgbm                     0.68 (+/- 0.00)               0.687   \n",
       "adaboost                 0.67 (+/- 0.00)               0.669   \n",
       "random forest            0.64 (+/- 0.00)               0.646   \n",
       "\n",
       "                    Precision on Valid. Recall on Valid. F1 Score on Valid.  \\\n",
       "logistic regression      [0.667, 0.595]   [0.823, 0.387]     [0.737, 0.469]   \n",
       "lasso logistic            [0.66, 0.587]   [0.828, 0.363]     [0.735, 0.449]   \n",
       "decision tree            [0.665, 0.499]    [0.66, 0.505]     [0.663, 0.502]   \n",
       "xgboost                  [0.715, 0.631]   [0.792, 0.529]     [0.752, 0.576]   \n",
       "lgbm                     [0.713, 0.634]   [0.797, 0.523]     [0.753, 0.573]   \n",
       "adaboost                 [0.693, 0.614]   [0.801, 0.472]     [0.743, 0.534]   \n",
       "random forest              [0.64, 0.68]    [0.93, 0.222]     [0.758, 0.334]   \n",
       "\n",
       "                    Fit Time in sec Predict Time in sec  \n",
       "logistic regression          8.7145              0.1319  \n",
       "lasso logistic              69.7904               0.118  \n",
       "decision tree               73.3898              0.1344  \n",
       "xgboost                     26.1154              0.3562  \n",
       "lgbm                         6.8097              0.2363  \n",
       "adaboost                     28.666              0.3918  \n",
       "random forest               45.9142              0.4916  "
      ]
     },
     "execution_count": 56,
     "metadata": {},
     "output_type": "execute_result"
    }
   ],
   "source": [
    "results_df = pd.DataFrame(results_dict).T\n",
    "# \"AUC(Area Under the Curve)\"\n",
    "results_df.columns = [\"Training CV Accuracy\",  \"Validation accuracy\", \"Precision on Valid.\",\n",
    "                      \"Recall on Valid.\", \"F1 Score on Valid.\", \"Fit Time in sec\", \"Predict Time in sec\"]\n",
    "results_df"
   ]
  },
  {
   "cell_type": "markdown",
   "metadata": {},
   "source": [
    "**LigthGBM** is the fastest on fitting time, and reasonable on predicting time. It has the best validation accuracy along with **xgboost**. \n",
    "\n",
    "Also, we have a balanced data with 60/40 ratio of **failed** to **successful** `state` values. Overall, a balanced **precision** and **recall** values for each class will be fine. With respect to these measures also **lgbm** seems the way to go. \n",
    "\n",
    "Surely, we want both **precision** and **recall** to be high values for both classes. Since, our data can be accepted as balanced, Area under ROC curve (AUC) can be used for extra measure. Here, I wanted to see more details over the precision and recall values for both classes, so I didn't feel the necessity of including the AUC. Also, **f1 score** is the harmonic average of precision and recall, and we report it for both classes seperately.\n",
    "\n",
    "\n",
    "#### Hyperparameter tuning on LightGBM: "
   ]
  },
  {
   "cell_type": "code",
   "execution_count": 52,
   "metadata": {
    "scrolled": false
   },
   "outputs": [
    {
     "data": {
      "text/plain": [
       "GridSearchCV(cv=10,\n",
       "             estimator=Pipeline(steps=[('preprocessor',\n",
       "                                        ColumnTransformer(transformers=[('num',\n",
       "                                                                         Pipeline(steps=[('scaler',\n",
       "                                                                                          StandardScaler())]),\n",
       "                                                                         Index(['name_wcount', 'campaing_len', 'launched_hour', 'launched_year',\n",
       "       'launched_weekend', 'deadline_weekend', 'goal_usd'],\n",
       "      dtype='object')),\n",
       "                                                                        ('cat',\n",
       "                                                                         Pipeline(steps=[('onehot',\n",
       "                                                                                          OneHotEncoder(handle_unknown='ignore'))]),\n",
       "                                                                         Index(['main_category', 'country', 'launched_month'], dtype='object'))])),\n",
       "                                       ('classifier', LGBMClassifier())]),\n",
       "             param_grid={'classifier__min_child_samples': [30, 50, 100, 300],\n",
       "                         'classifier__num_leaves': [31, 120],\n",
       "                         'classifier__reg_alpha': [0.1, 0.5]})"
      ]
     },
     "execution_count": 52,
     "metadata": {},
     "output_type": "execute_result"
    }
   ],
   "source": [
    "# Hyperparameter optimization \n",
    "\n",
    "clf = Pipeline(steps=[('preprocessor', preprocessor),\n",
    "                      ('classifier', LGBMClassifier())])\n",
    "\n",
    "\n",
    "param_grid = {\n",
    "    'classifier__num_leaves': [31, 120],\n",
    "    'classifier__reg_alpha': [0.1, 0.5],\n",
    "    'classifier__min_child_samples': [30, 50, 100, 300],\n",
    "    }\n",
    "\n",
    "grid_search = GridSearchCV(clf,\n",
    "                           param_grid=param_grid,\n",
    "                           cv=10)\n",
    "grid_search.fit(X_trainvalid, y_trainvalid)"
   ]
  },
  {
   "cell_type": "code",
   "execution_count": 53,
   "metadata": {},
   "outputs": [
    {
     "name": "stdout",
     "output_type": "stream",
     "text": [
      "Best parameters : {'classifier__min_child_samples': 300, 'classifier__num_leaves': 120, 'classifier__reg_alpha': 0.5}\n"
     ]
    }
   ],
   "source": [
    "print(\"Best parameters : %s\" % grid_search.best_params_)"
   ]
  },
  {
   "cell_type": "code",
   "execution_count": 54,
   "metadata": {},
   "outputs": [
    {
     "name": "stdout",
     "output_type": "stream",
     "text": [
      "              precision    recall  f1-score   support\n",
      "\n",
      "       False       0.71      0.79      0.75     33452\n",
      "        True       0.63      0.53      0.57     22736\n",
      "\n",
      "    accuracy                           0.68     56188\n",
      "   macro avg       0.67      0.66      0.66     56188\n",
      "weighted avg       0.68      0.68      0.68     56188\n",
      "\n"
     ]
    },
    {
     "data": {
      "image/png": "[encoded data removed]",
      "text/plain": [
       "<Figure size 432x288 with 2 Axes>"
      ]
     },
     "metadata": {},
     "output_type": "display_data"
    }
   ],
   "source": [
    "display_confusion_matrix_classification_report(grid_search, X_test, y_test, \n",
    "                                                   labels=['failed', 'successful'],\n",
    "                                              disp_title = 'Confusion matrix for the test dataset')"
   ]
  },
  {
   "cell_type": "code",
   "execution_count": 55,
   "metadata": {},
   "outputs": [
    {
     "name": "stdout",
     "output_type": "stream",
     "text": [
      "Test Accuracy on selected LightGBM from grid search: 0.682\n"
     ]
    }
   ],
   "source": [
    "print((\"Test Accuracy on selected LightGBM from grid search: %.3f\"\n",
    "       % grid_search.score(X_test, y_test)))"
   ]
  },
  {
   "cell_type": "markdown",
   "metadata": {},
   "source": [
    "### Further Improvements:\n",
    "\n",
    "- Hyperparameter tuning stage produced no improvement in this exercise. I just wanted to include the step to show case how it can be done. However, running different combinations of the parameters will require extra time so I didn't try to improve it further for this exercise.\n",
    "- Here,I restricted my model to **failed** and **successful** `state` values only. Other `state` values can be explored with extra information and modelled as multilabel classification.\n",
    "- Feature engineering still has room to improvement. I created features from date type columns but those features may have little information in their current form too. \n",
    "    - Since we have multiple countries, hour difference hasn't taken into account when including the hour as a categorical feature.\n",
    "    - Multiple country may be better of with modelling them seperately.  \n",
    "    - `category` variable is dropped since `main_category` is easier to handle. We can try to use `category` instead of `main_category`.\n",
    "    - `name` words can be used for extra features\n",
    "    - I used **StandardScaler()** to get standard normal distributed numeric columns. Another approach would be logarthim scaling of `goal` since it has a skewed distribution. Also, we may also try modelling not scaled numeric columns.\n",
    "    \n",
    "- Neural network models generally perform very well but I didn't include any in this exercise. It is an area to explore. NNs are good at finding patterns that are too difficult to observe. It may take the pressure on the feature engineering side.\n",
    "- Used pandasprofiling package for faster exploratory data analysis. Deeper pairwise analyses can be done to get better understanding of the data.\n",
    "- Last but not least, making the analysis reproducible by automating some processes would be beneficial for future similar works."
   ]
  },
  {
   "cell_type": "code",
   "execution_count": null,
   "metadata": {},
   "outputs": [],
   "source": []
  }
 ],
 "metadata": {
  "kernelspec": {
   "display_name": "Python 3",
   "language": "python",
   "name": "python3"
  },
  "language_info": {
   "codemirror_mode": {
    "name": "ipython",
    "version": 3
   },
   "file_extension": ".py",
   "mimetype": "text/x-python",
   "name": "python",
   "nbconvert_exporter": "python",
   "pygments_lexer": "ipython3",
   "version": "3.8.3"
  }
 },
 "nbformat": 4,
 "nbformat_minor": 4
}
